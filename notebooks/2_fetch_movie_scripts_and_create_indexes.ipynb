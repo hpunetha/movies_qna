{
 "cells": [
  {
   "cell_type": "code",
   "execution_count": 107,
   "id": "1da91cfd-fdb8-48e0-b03f-4481545f8b57",
   "metadata": {},
   "outputs": [],
   "source": [
    "# %pip install tiktoken\n",
    "# $pip install nltk\n",
    "# %pip install faiss-cpu"
   ]
  },
  {
   "cell_type": "code",
   "execution_count": null,
   "id": "87617602-6f67-418d-b098-2189aedb5621",
   "metadata": {},
   "outputs": [],
   "source": [
    "import pickle"
   ]
  },
  {
   "cell_type": "code",
   "execution_count": 1,
   "id": "aed6ae16-c2b1-4604-85a4-cd256b84e636",
   "metadata": {},
   "outputs": [],
   "source": [
    "from sqlalchemy import create_engine\n",
    "import pandas as pd\n",
    "conn_string = (\n",
    "    \"sqlite:///../database/moviesdb.db\"\n",
    "    )\n",
    "\n",
    "sqlite_engine = create_engine(conn_string, echo=False) #echo can be set to true if you want to see intermediate processing messages as well\n",
    "\n",
    "get_script_urls_sql = \"Select * from movie_script_urls\"\n",
    "df = pd.read_sql(get_script_urls_sql, sqlite_engine)"
   ]
  },
  {
   "cell_type": "code",
   "execution_count": 6,
   "id": "939e78a8-c2f4-4342-80e2-f35b1c5d2e48",
   "metadata": {},
   "outputs": [
    {
     "data": {
      "text/html": [
       "<div>\n",
       "<style scoped>\n",
       "    .dataframe tbody tr th:only-of-type {\n",
       "        vertical-align: middle;\n",
       "    }\n",
       "\n",
       "    .dataframe tbody tr th {\n",
       "        vertical-align: top;\n",
       "    }\n",
       "\n",
       "    .dataframe thead th {\n",
       "        text-align: right;\n",
       "    }\n",
       "</style>\n",
       "<table border=\"1\" class=\"dataframe\">\n",
       "  <thead>\n",
       "    <tr style=\"text-align: right;\">\n",
       "      <th></th>\n",
       "      <th>movie_id</th>\n",
       "      <th>movie_title</th>\n",
       "      <th>movie_script_url</th>\n",
       "    </tr>\n",
       "  </thead>\n",
       "  <tbody>\n",
       "    <tr>\n",
       "      <th>0</th>\n",
       "      <td>m0</td>\n",
       "      <td>10 things i hate about you</td>\n",
       "      <td>http://www.dailyscript.com/scripts/10Things.html</td>\n",
       "    </tr>\n",
       "    <tr>\n",
       "      <th>1</th>\n",
       "      <td>m1</td>\n",
       "      <td>1492: conquest of paradise</td>\n",
       "      <td>http://www.hundland.org/scripts/1492-ConquestO...</td>\n",
       "    </tr>\n",
       "    <tr>\n",
       "      <th>2</th>\n",
       "      <td>m2</td>\n",
       "      <td>15 minutes</td>\n",
       "      <td>http://www.dailyscript.com/scripts/15minutes.html</td>\n",
       "    </tr>\n",
       "    <tr>\n",
       "      <th>3</th>\n",
       "      <td>m3</td>\n",
       "      <td>2001: a space odyssey</td>\n",
       "      <td>http://www.scifiscripts.com/scripts/2001.txt</td>\n",
       "    </tr>\n",
       "    <tr>\n",
       "      <th>4</th>\n",
       "      <td>m4</td>\n",
       "      <td>48 hrs.</td>\n",
       "      <td>http://www.awesomefilm.com/script/48hours.txt</td>\n",
       "    </tr>\n",
       "  </tbody>\n",
       "</table>\n",
       "</div>"
      ],
      "text/plain": [
       "  movie_id                 movie_title  \\\n",
       "0       m0  10 things i hate about you   \n",
       "1       m1  1492: conquest of paradise   \n",
       "2       m2                  15 minutes   \n",
       "3       m3       2001: a space odyssey   \n",
       "4       m4                     48 hrs.   \n",
       "\n",
       "                                    movie_script_url  \n",
       "0   http://www.dailyscript.com/scripts/10Things.html  \n",
       "1  http://www.hundland.org/scripts/1492-ConquestO...  \n",
       "2  http://www.dailyscript.com/scripts/15minutes.html  \n",
       "3       http://www.scifiscripts.com/scripts/2001.txt  \n",
       "4      http://www.awesomefilm.com/script/48hours.txt  "
      ]
     },
     "execution_count": 6,
     "metadata": {},
     "output_type": "execute_result"
    }
   ],
   "source": [
    "df.head()"
   ]
  },
  {
   "cell_type": "code",
   "execution_count": 2,
   "id": "650eeef4-e0ba-4922-9c75-2771c0cabfd2",
   "metadata": {},
   "outputs": [],
   "source": [
    "import requests\n",
    "from bs4 import BeautifulSoup\n",
    "errored_urls = []\n",
    "def download_script(url):\n",
    "    plot = \"\"\n",
    "    try:\n",
    "        response = requests.get(url)\n",
    "        soup = BeautifulSoup(response.text, 'html.parser')\n",
    "        plot = soup.text\n",
    "    except:\n",
    "        errored_urls.append(url)\n",
    "        print(\"Error occured for : \", url )\n",
    "    \n",
    "    return plot\n",
    "\n"
   ]
  },
  {
   "cell_type": "code",
   "execution_count": 121,
   "id": "28d3faa9-7e66-42d6-a7a5-bb14f0147d71",
   "metadata": {},
   "outputs": [],
   "source": [
    "## Uncomment below lines in this cell and run them only once, it will save the movie scripts as a pickle file.\n",
    "## from next time, directly load the pickle file into pandas df as done in next cell.\n",
    "\n",
    "# df['movie_script'] = df['movie_script_url'].apply(download_script)\n",
    "\n",
    "movie_scripts_file_path = '../indexes/movie_scripts_pandas_df.pickle'\n",
    "# df.to_pickle(movie_scripts_file_path)"
   ]
  },
  {
   "cell_type": "code",
   "execution_count": 122,
   "id": "716fa1bd-4d96-4565-8dbb-6bfa4ffc79f9",
   "metadata": {},
   "outputs": [],
   "source": [
    "# You can directly get all pickle files (movie_scripts_pandas_df.pickle) from this link - https://drive.google.com/drive/folders/1rWUQbW4gyOvU96Uo8vFSbJH4VTNjAg7g?usp=share_link\n",
    "df = pd.read_pickle(movie_scripts_file_path)"
   ]
  },
  {
   "cell_type": "code",
   "execution_count": 123,
   "id": "aa64b339-f7c1-481c-ac1e-a7dd5df3fd3b",
   "metadata": {},
   "outputs": [
    {
     "data": {
      "text/html": [
       "<div>\n",
       "<style scoped>\n",
       "    .dataframe tbody tr th:only-of-type {\n",
       "        vertical-align: middle;\n",
       "    }\n",
       "\n",
       "    .dataframe tbody tr th {\n",
       "        vertical-align: top;\n",
       "    }\n",
       "\n",
       "    .dataframe thead th {\n",
       "        text-align: right;\n",
       "    }\n",
       "</style>\n",
       "<table border=\"1\" class=\"dataframe\">\n",
       "  <thead>\n",
       "    <tr style=\"text-align: right;\">\n",
       "      <th></th>\n",
       "      <th>movie_id</th>\n",
       "      <th>movie_title</th>\n",
       "      <th>movie_script_url</th>\n",
       "      <th>movie_script</th>\n",
       "    </tr>\n",
       "  </thead>\n",
       "  <tbody>\n",
       "    <tr>\n",
       "      <th>0</th>\n",
       "      <td>m0</td>\n",
       "      <td>10 things i hate about you</td>\n",
       "      <td>http://www.dailyscript.com/scripts/10Things.html</td>\n",
       "      <td>\\n\\n10 Things I Hate About You script by Karen...</td>\n",
       "    </tr>\n",
       "    <tr>\n",
       "      <th>1</th>\n",
       "      <td>m1</td>\n",
       "      <td>1492: conquest of paradise</td>\n",
       "      <td>http://www.hundland.org/scripts/1492-ConquestO...</td>\n",
       "      <td></td>\n",
       "    </tr>\n",
       "  </tbody>\n",
       "</table>\n",
       "</div>"
      ],
      "text/plain": [
       "  movie_id                 movie_title  \\\n",
       "0       m0  10 things i hate about you   \n",
       "1       m1  1492: conquest of paradise   \n",
       "\n",
       "                                    movie_script_url  \\\n",
       "0   http://www.dailyscript.com/scripts/10Things.html   \n",
       "1  http://www.hundland.org/scripts/1492-ConquestO...   \n",
       "\n",
       "                                        movie_script  \n",
       "0  \\n\\n10 Things I Hate About You script by Karen...  \n",
       "1                                                     "
      ]
     },
     "execution_count": 123,
     "metadata": {},
     "output_type": "execute_result"
    }
   ],
   "source": [
    "df.head(2)"
   ]
  },
  {
   "cell_type": "code",
   "execution_count": 124,
   "id": "1ee6089f-cf5e-4ab5-a464-804e0549e65f",
   "metadata": {},
   "outputs": [],
   "source": [
    "df['total_words'] = df['movie_script'].str.split().str.len()"
   ]
  },
  {
   "cell_type": "code",
   "execution_count": 125,
   "id": "08ac2a73-9b8e-4dc0-9579-82da9843a8c5",
   "metadata": {},
   "outputs": [
    {
     "data": {
      "text/html": [
       "<div>\n",
       "<style scoped>\n",
       "    .dataframe tbody tr th:only-of-type {\n",
       "        vertical-align: middle;\n",
       "    }\n",
       "\n",
       "    .dataframe tbody tr th {\n",
       "        vertical-align: top;\n",
       "    }\n",
       "\n",
       "    .dataframe thead th {\n",
       "        text-align: right;\n",
       "    }\n",
       "</style>\n",
       "<table border=\"1\" class=\"dataframe\">\n",
       "  <thead>\n",
       "    <tr style=\"text-align: right;\">\n",
       "      <th></th>\n",
       "      <th>movie_id</th>\n",
       "      <th>movie_title</th>\n",
       "      <th>movie_script_url</th>\n",
       "      <th>movie_script</th>\n",
       "      <th>total_words</th>\n",
       "    </tr>\n",
       "  </thead>\n",
       "  <tbody>\n",
       "    <tr>\n",
       "      <th>0</th>\n",
       "      <td>m0</td>\n",
       "      <td>10 things i hate about you</td>\n",
       "      <td>http://www.dailyscript.com/scripts/10Things.html</td>\n",
       "      <td>\\n\\n10 Things I Hate About You script by Karen...</td>\n",
       "      <td>18604</td>\n",
       "    </tr>\n",
       "    <tr>\n",
       "      <th>1</th>\n",
       "      <td>m2</td>\n",
       "      <td>15 minutes</td>\n",
       "      <td>http://www.dailyscript.com/scripts/15minutes.html</td>\n",
       "      <td>\\n\\n15 Minutes script by John Hertzfeld\\n\\n\\n\\...</td>\n",
       "      <td>25215</td>\n",
       "    </tr>\n",
       "  </tbody>\n",
       "</table>\n",
       "</div>"
      ],
      "text/plain": [
       "  movie_id                 movie_title  \\\n",
       "0       m0  10 things i hate about you   \n",
       "1       m2                  15 minutes   \n",
       "\n",
       "                                    movie_script_url  \\\n",
       "0   http://www.dailyscript.com/scripts/10Things.html   \n",
       "1  http://www.dailyscript.com/scripts/15minutes.html   \n",
       "\n",
       "                                        movie_script  total_words  \n",
       "0  \\n\\n10 Things I Hate About You script by Karen...        18604  \n",
       "1  \\n\\n15 Minutes script by John Hertzfeld\\n\\n\\n\\...        25215  "
      ]
     },
     "execution_count": 125,
     "metadata": {},
     "output_type": "execute_result"
    }
   ],
   "source": [
    "xdf= df[~(df['movie_script'].str.contains('403 Forbidden')) & ~(df['total_words']==0)].reset_index(drop=True)\n",
    "\n",
    "xdf.head(2)"
   ]
  },
  {
   "cell_type": "code",
   "execution_count": 92,
   "id": "5e460a9e-c2ab-4b9b-8ea0-2e1f9fdd3998",
   "metadata": {},
   "outputs": [],
   "source": [
    "from langchain.embeddings.openai import OpenAIEmbeddings\n",
    "from langchain.text_splitter import CharacterTextSplitter,NLTKTextSplitter\n",
    "from langchain.vectorstores import FAISS\n",
    "from langchain.document_loaders import TextLoader"
   ]
  },
  {
   "cell_type": "code",
   "execution_count": 94,
   "id": "0ca4c9e8-48a8-434c-9157-65136d6ea5b0",
   "metadata": {},
   "outputs": [],
   "source": [
    "from langchain.document_loaders import DataFrameLoader\n",
    "loader = DataFrameLoader(xdf, page_content_column=\"movie_script\")\n",
    "documents = loader.load()\n"
   ]
  },
  {
   "cell_type": "code",
   "execution_count": 97,
   "id": "c7c2bbd2-2c28-41e9-b83e-f051c929366d",
   "metadata": {},
   "outputs": [
    {
     "name": "stdout",
     "output_type": "stream",
     "text": [
      "Total docs with scripts found:  432\n"
     ]
    }
   ],
   "source": [
    "print(\"Total docs with scripts found: \", len(documents))"
   ]
  },
  {
   "cell_type": "code",
   "execution_count": 96,
   "id": "87b3e60b-1b19-4ec5-b38d-1faf241f13f6",
   "metadata": {},
   "outputs": [],
   "source": [
    "# nltk is needed for below and punkt also needed, download by uncommenting line below\n",
    "import nltk\n",
    "# nltk.download('punkt')\n",
    "text_splitter= NLTKTextSplitter(chunk_size=4000, chunk_overlap=200)\n",
    "docs = text_splitter.split_documents(documents)"
   ]
  },
  {
   "cell_type": "code",
   "execution_count": 102,
   "id": "e4f78251-560f-488a-a3a2-153fcc7f3664",
   "metadata": {},
   "outputs": [
    {
     "name": "stdout",
     "output_type": "stream",
     "text": [
      "Total docs after splitting documents based on conditions:  19552\n",
      "For example, the number of separate docs for one of the movie is now increased to:  45\n"
     ]
    }
   ],
   "source": [
    "print(\"Total docs after splitting documents based on conditions: \", len(docs))\n",
    "\n",
    "q = [x for x in docs if x.metadata['movie_title']=='10 things i hate about you']\n",
    "print(\"For example, the number of separate docs for one of the movie is now increased to: \", len(q))\n"
   ]
  },
  {
   "cell_type": "code",
   "execution_count": 103,
   "id": "be6df7cc-bba8-43de-b4ba-1685392da7db",
   "metadata": {},
   "outputs": [],
   "source": [
    "embeddings = OpenAIEmbeddings()"
   ]
  },
  {
   "cell_type": "code",
   "execution_count": 117,
   "id": "747b584b-eadc-4c6c-b4b6-3194e429326d",
   "metadata": {},
   "outputs": [],
   "source": [
    "# # Note - Running below command uses up around 5-10$ of openai quota for embeddings due to large number of documents\n",
    "# # To save up on openai queries, its better to run this cell only once and then export the db object as pickle file and then use that for reading further as done in next cell\n",
    "#  I have already saved the pickle files at the link, so you can directly read it in next cell - https://drive.google.com/drive/folders/1rWUQbW4gyOvU96Uo8vFSbJH4VTNjAg7g?usp=share_link\n",
    "\n",
    "db = FAISS.from_documents(docs, embeddings)\n",
    "\n",
    "index_file_path = '../indexes/langchain_faiss_index_scripts_432.pickle'\n",
    "with open(index_file_path, 'wb') as handle:\n",
    "    pickle.dump(db, handle, protocol=pickle.HIGHEST_PROTOCOL)"
   ]
  },
  {
   "cell_type": "code",
   "execution_count": 119,
   "id": "34fc4e81-ef6a-4085-a042-4128ba5d71d5",
   "metadata": {},
   "outputs": [],
   "source": [
    "#  You can get the pickle files from and put them in indexes directory under movies_qna - https://drive.google.com/drive/folders/1rWUQbW4gyOvU96Uo8vFSbJH4VTNjAg7g?usp=share_link\n",
    "with open(index_file_path, 'rb') as handle:\n",
    "    db = pickle.load(handle)"
   ]
  },
  {
   "cell_type": "code",
   "execution_count": 127,
   "id": "81c34b64-0c0c-48a3-b550-150294644cac",
   "metadata": {},
   "outputs": [],
   "source": [
    "\n",
    "query = \"becca has relationship with whom in 10 things i hate about you?\"\n",
    "sim_docs = db.similarity_search(query)"
   ]
  },
  {
   "cell_type": "code",
   "execution_count": null,
   "id": "d6e6d827-1c6d-4443-beb5-48e0a9019966",
   "metadata": {},
   "outputs": [],
   "source": [
    "sim_docs"
   ]
  }
 ],
 "metadata": {
  "kernelspec": {
   "display_name": "Python 3 (ipykernel)",
   "language": "python",
   "name": "python3"
  },
  "language_info": {
   "codemirror_mode": {
    "name": "ipython",
    "version": 3
   },
   "file_extension": ".py",
   "mimetype": "text/x-python",
   "name": "python",
   "nbconvert_exporter": "python",
   "pygments_lexer": "ipython3",
   "version": "3.10.9"
  }
 },
 "nbformat": 4,
 "nbformat_minor": 5
}
