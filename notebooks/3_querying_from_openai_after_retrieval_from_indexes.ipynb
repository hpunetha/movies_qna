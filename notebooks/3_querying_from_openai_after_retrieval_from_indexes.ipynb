{
 "cells": [
  {
   "cell_type": "code",
   "execution_count": 20,
   "id": "58f59b18-7aae-4648-b207-114f43c21be3",
   "metadata": {
    "tags": []
   },
   "outputs": [],
   "source": [
    "import pickle\n",
    "from langchain.chains import RetrievalQA\n",
    "from langchain.llms import OpenAI\n",
    "from langchain.vectorstores import FAISS"
   ]
  },
  {
   "cell_type": "code",
   "execution_count": 4,
   "id": "b08d418d-af6f-49d4-9276-68f3b9e8524f",
   "metadata": {
    "tags": []
   },
   "outputs": [],
   "source": [
    "index_file_path = '../indexes/langchain_faiss_index_scripts_432.pickle'\n",
    "\n",
    "#  You can get the pickle files also from - https://drive.google.com/drive/folders/1rWUQbW4gyOvU96Uo8vFSbJH4VTNjAg7g?usp=share_link\n",
    "with open(index_file_path, 'rb') as handle:\n",
    "    db = pickle.load(handle)"
   ]
  },
  {
   "cell_type": "code",
   "execution_count": 10,
   "id": "2cb470d1-611d-4391-b8d3-5d07e269cd8a",
   "metadata": {
    "tags": []
   },
   "outputs": [
    {
     "name": "stderr",
     "output_type": "stream",
     "text": [
      "Retrying langchain.embeddings.openai.embed_with_retry.<locals>._embed_with_retry in 4.0 seconds as it raised APIConnectionError: Error communicating with OpenAI.\n"
     ]
    }
   ],
   "source": [
    "# To use below command, you need to have the OPENAI_API_KEY environment variable set with your openai key\n",
    "query = \"bianca has relationship with whom in 10 things i hate about you?\"\n",
    "sim_docs = db.similarity_search(query)"
   ]
  },
  {
   "cell_type": "code",
   "execution_count": 11,
   "id": "09dd7b15-71b2-41c9-ada5-179f1d523e82",
   "metadata": {
    "tags": []
   },
   "outputs": [
    {
     "data": {
      "text/plain": [
       "4"
      ]
     },
     "execution_count": 11,
     "metadata": {},
     "output_type": "execute_result"
    }
   ],
   "source": [
    "len(sim_docs)"
   ]
  },
  {
   "cell_type": "code",
   "execution_count": 25,
   "id": "e221e470-3942-42b0-8274-9f40617199ff",
   "metadata": {
    "tags": []
   },
   "outputs": [
    {
     "name": "stdout",
     "output_type": "stream",
     "text": [
      "10 Things I Hate About You script by Karen McCullah Lutz, Kirsten Smith & William Shakespeare\n",
      "\n",
      "\n",
      "\n",
      "\n",
      "\n",
      "\n",
      "\n",
      "\n",
      "\n",
      "\n",
      "\n",
      "\n",
      "\n",
      "\n",
      "\n",
      "                               TEN THINGS I HATE ABOUT YOU\n",
      "          \n",
      "                written by Karen McCullah Lutz & Kirsten Smith\n",
      "          \n",
      "              based on 'Taming of the Shrew\" by William Shakespeare\n",
      "          \n",
      "          Revision November 12, 1997\n",
      "          \n",
      "          \n",
      "          PADUA HIGH SCHOOL - DAY\n",
      "          \n",
      "          Welcome to Padua High School,, your typical urban-suburban \n",
      "          high school in Portland, Oregon.\n",
      "\n",
      "Smarties, Skids, Preppies, \n",
      "          Granolas.\n",
      "\n",
      "Loners, Lovers, the In and the Out Crowd rub sleep \n",
      "          out of their eyes and head for the main building.\n",
      "\n",
      "PADUA HIGH PARKING LOT - DAY\n",
      "          \n",
      "          KAT STRATFORD, eighteen, pretty -- but trying hard not to be \n",
      "          -- in a baggy granny dress and glasses, balances a cup of \n",
      "          coffee and a backpack as she climbs out of her battered, \n",
      "          baby blue '75 Dodge Dart.\n",
      "\n",
      "A stray SKATEBOARD clips her, causing her to stumble and \n",
      "          spill her coffee, as well as the contents of her backpack.\n",
      "\n",
      "The young RIDER dashes over to help, trembling when he sees \n",
      "          who his board has hit.\n",
      "\n",
      "RIDER\n",
      "                    Hey -- sorry.\n",
      "\n",
      "Cowering in fear, he attempts to scoop up her scattered \n",
      "          belongings.\n",
      "\n",
      "KAT\n",
      "                    Leave it \n",
      "          \n",
      "          He persists.\n",
      "\n",
      "KAT (continuing)\n",
      "                    I said, leave it!\n",
      "\n",
      "She grabs his skateboard and uses it to SHOVE him against a \n",
      "          car, skateboard tip to his throat.\n",
      "\n",
      "He whimpers pitifully \n",
      "          and she lets him go.\n",
      "\n",
      "A path clears for her as she marches \n",
      "          through a pack of fearful students and SLAMS open the door, \n",
      "          entering school.\n",
      "\n",
      "INT.\n",
      "\n",
      "GIRLS' ROOM - DAY\n",
      "          \n",
      "          BIANCA STRATFORD, a beautiful sophomore, stands facing the \n",
      "          mirror, applying lipstick.\n",
      "\n",
      "Her less extraordinary, but \n",
      "          still cute friend, CHASTITY stands next to her.\n",
      "\n",
      "BIANCA\n",
      "                    Did you change your hair?\n",
      "\n",
      "CHASTITY \n",
      "                    No.\n",
      "\n",
      "BIANCA\n",
      "                    You might wanna think about it\n",
      "          \n",
      "          Leave the girls' room and enter the hallway.\n",
      "\n",
      "HALLWAY - DAY- CONTINUOUS\n",
      "          \n",
      "          Bianca is immediately greeted by an admiring crowd, both \n",
      "          boys\n",
      "          and girls alike.\n",
      "\n",
      "BOY\n",
      "                           (adoring)\n",
      "                    Hey, Bianca.\n",
      "\n",
      "GIRL\n",
      "                    Awesome shoes.\n",
      "\n",
      "The greetings continue as Chastity remains wordless and \n",
      "          unaddressed by her side.\n",
      "\n",
      "Bianca smiles proudly, \n",
      "          acknowledging her fans.\n",
      "\n",
      "GUIDANCE COUNSELOR'S OFFICE - DAY\n",
      "          \n",
      "          CAMERON JAMES, a clean-cut, easy-going senior with an open, \n",
      "          farm-boy face, sits facing Miss Perky, an impossibly cheery \n",
      "          guidance counselor.\n",
      "\n",
      "MISS PERKY\n",
      "                    I'm sure you won't find Padua any \n",
      "                    different than your old school.\n",
      "\n",
      "Same \n",
      "                    little asswipe mother-fuckers \n",
      "                    everywhere.\n",
      "\n",
      "Her plastic smile never leaves her face.\n",
      "\n",
      "Cameron fidgets in \n",
      "          his chair uncomfortably.\n",
      "\n",
      "MISS PERKY\n",
      "                           (continuing)\n",
      "                    Any questions?\n",
      "\n",
      "CAMERON\n",
      "                    I don't think so, ma'am\n",
      "          \n",
      "                                 MISS PERKY\n",
      "                    Then go forth.\n",
      "\n",
      "Scoot   I've got \n",
      "                    deviants to see.\n",
      "\n",
      "Cameron rises to leave and makes eye contact with PATRICK \n",
      "          VERONA, a sullen-looking bad ass senior who waits outside Ms \n",
      "          Perky's door.\n",
      "\n",
      "His slouch and smirk let us know how cool he \n",
      "          is.\n",
      "\n",
      "Miss Perky looks down at her file and up at Patrick\n",
      "          \n",
      "                                 MISS PERKY\n",
      "                           (continuing)\n",
      "                    Patrick Verona.\n",
      "\n",
      "I see we're making our \n",
      "                    visits a weekly ritual.\n"
     ]
    }
   ],
   "source": [
    "print(sim_docs[2].page_content)"
   ]
  },
  {
   "cell_type": "markdown",
   "id": "bae4d5d1-4a74-48fd-ae69-a31300f0d8cf",
   "metadata": {},
   "source": [
    "As we can see above, the similarity search function returns the relevent documents but we still need llm to answer the question we asked based on the context of returned relevent docs. To do this we can expose the index to retriever interface in langchain for the vectorstore."
   ]
  },
  {
   "cell_type": "code",
   "execution_count": 18,
   "id": "02cacfad-aaa7-4cbe-932c-cdafdf85864b",
   "metadata": {
    "tags": []
   },
   "outputs": [],
   "source": [
    "# I have specified k as 3 in below retriever to limit the number of relevent documents to be passed to LLM to 3 to reduce the input tokens. \n",
    "# This is done because gpt3 endpoint has a limit of approx 4000 tokens including the response.\n",
    "retriever = db.as_retriever(search_kwargs={\"k\": 3}) \n",
    "qa = RetrievalQA.from_chain_type(llm=OpenAI(), chain_type=\"stuff\", retriever=retriever)"
   ]
  },
  {
   "cell_type": "code",
   "execution_count": 19,
   "id": "8014ed44-28b2-4024-bc6e-583b7ff9bfa2",
   "metadata": {
    "tags": []
   },
   "outputs": [
    {
     "data": {
      "text/plain": [
       "' Bianca has a flirtatious relationship with Joey, but it is not a romantic relationship. She also develops romantic feelings for Cameron, and later starts a relationship with him.'"
      ]
     },
     "execution_count": 19,
     "metadata": {},
     "output_type": "execute_result"
    }
   ],
   "source": [
    "qa.run(query)"
   ]
  },
  {
   "cell_type": "markdown",
   "id": "a4d48c8e-7ea5-46c8-86f6-44e1124877bc",
   "metadata": {},
   "source": [
    "In my run the result returned was- \n",
    "\n",
    "*Bianca has a flirtatious relationship with Joey, but it is not a romantic relationship. She also develops romantic feelings for Cameron, and later starts a relationship with him.*\n",
    "\n",
    "We can see that LLM was able to answer the question we asked correctly."
   ]
  },
  {
   "cell_type": "code",
   "execution_count": null,
   "id": "0652b70e-9dc0-4880-8314-fa87f2530b21",
   "metadata": {},
   "outputs": [],
   "source": []
  }
 ],
 "metadata": {
  "kernelspec": {
   "display_name": "Python 3 (ipykernel)",
   "language": "python",
   "name": "python3"
  },
  "language_info": {
   "codemirror_mode": {
    "name": "ipython",
    "version": 3
   },
   "file_extension": ".py",
   "mimetype": "text/x-python",
   "name": "python",
   "nbconvert_exporter": "python",
   "pygments_lexer": "ipython3",
   "version": "3.9.16"
  }
 },
 "nbformat": 4,
 "nbformat_minor": 5
}
