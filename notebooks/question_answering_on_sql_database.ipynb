{
 "cells": [
  {
   "cell_type": "markdown",
   "id": "ded6e5cb-8454-4230-a6fa-36ee349be6cd",
   "metadata": {},
   "source": [
    "# Question Answering on SQL Database using OpenAI's Large Language Mode (LLM) and langchain"
   ]
  },
  {
   "cell_type": "code",
   "execution_count": 3,
   "id": "ed941ad4-edab-4808-80dc-413f7891a5b2",
   "metadata": {},
   "outputs": [],
   "source": [
    "# %pip install openai\n",
    "# %pip install langchain\n",
    "# %pip install sqlalchemy"
   ]
  },
  {
   "cell_type": "code",
   "execution_count": 4,
   "id": "c299b2b2-dd6b-4e4d-9719-b11464dfd385",
   "metadata": {},
   "outputs": [],
   "source": [
    "import os\n",
    "from sqlalchemy import create_engine\n",
    "from langchain import OpenAI\n",
    "from langchain.chains import ConversationChain"
   ]
  },
  {
   "cell_type": "markdown",
   "id": "310bb830-89a9-4b10-8754-9a6f9e1eaef9",
   "metadata": {},
   "source": [
    "#### Connect to the Database using SQLAlchemy"
   ]
  },
  {
   "cell_type": "code",
   "execution_count": 13,
   "id": "8156558d-e950-496f-bef7-3fe3027fa1b8",
   "metadata": {},
   "outputs": [
    {
     "name": "stdout",
     "output_type": "stream",
     "text": [
      "connection is ok\n",
      "['movie_characters', 'movie_conversations', 'movie_lines', 'movie_script_urls', 'movie_titles']\n"
     ]
    },
    {
     "name": "stderr",
     "output_type": "stream",
     "text": [
      "C:\\Users\\hpune\\AppData\\Local\\Temp\\ipykernel_43688\\1087331391.py:8: SADeprecationWarning: The Engine.table_names() method is deprecated and will be removed in a future release.  Please refer to Inspector.get_table_names(). (deprecated since: 1.4)\n",
      "  print(sqlite_engine.table_names())\n"
     ]
    }
   ],
   "source": [
    "conn_string = (\n",
    "    \"sqlite:///../database/moviesdb.db\"\n",
    "    )\n",
    "\n",
    "sqlite_engine = create_engine(conn_string, echo=False) #echo can be set to true if you want to see intermediate processing messages as well\n",
    "\n",
    "print('connection is ok')\n",
    "print(sqlite_engine.table_names())"
   ]
  },
  {
   "cell_type": "markdown",
   "id": "fbf6d1d7-6ea6-4cba-9aad-58e211f37438",
   "metadata": {},
   "source": [
    "#### Make Sure the below environment variables are set before connecting to OpenAI, otherwise the command will fail\n",
    "OPENAI_API_KEY - OpenAI Api key. Create if from https://beta.openai.com\n",
    "\n",
    "If not present in environment variables, it can also be set in notebook using below line.\n",
    "\n",
    "os.environ[\"OPENAI_API_KEY\"] = key_value"
   ]
  },
  {
   "cell_type": "code",
   "execution_count": 14,
   "id": "3e2b36cf-51c5-4722-90aa-cc5c89904c60",
   "metadata": {},
   "outputs": [],
   "source": [
    "# first initialize the large language model\n",
    "llm = OpenAI(\n",
    "    temperature=0,\n",
    "    model_name=\"text-davinci-003\"\n",
    ")\n"
   ]
  },
  {
   "cell_type": "code",
   "execution_count": 15,
   "id": "97d15dd7-d45a-4926-a45a-78b864a4f34e",
   "metadata": {},
   "outputs": [],
   "source": [
    "# Since we are going to ask questions based on sql database and want answers related to that, hence we are using SQLDatabaseChain from langchain\n",
    "from langchain import OpenAI, SQLDatabase, SQLDatabaseChain"
   ]
  },
  {
   "cell_type": "code",
   "execution_count": 16,
   "id": "0d8244ea-5d9c-4b67-9baa-615b2554341e",
   "metadata": {},
   "outputs": [],
   "source": [
    "# We can set the list of tables which can be included for querying and whose schema can be passed to LLM (davinci model in our case)\n",
    "include_tables = ['movie_characters', 'movie_conversations', 'movie_lines', 'movie_script_urls', 'movie_titles']\n",
    "\n",
    "db = SQLDatabase(engine=sqlite_engine,\n",
    "                 sample_rows_in_table_info=2, # We can set the number of samples to be included from database table to help LLM understand the table data better\n",
    "                 include_tables=include_tables,  \n",
    "                )"
   ]
  },
  {
   "cell_type": "markdown",
   "id": "7565e96f-bfaf-4fa1-bfbe-da5fc3757c18",
   "metadata": {},
   "source": [
    "#### The table info shown below will be passed later to LLM so that it can answer our queries\n"
   ]
  },
  {
   "cell_type": "code",
   "execution_count": 18,
   "id": "c5203940-42e9-4f23-9771-bb9f1cf922a7",
   "metadata": {},
   "outputs": [
    {
     "name": "stdout",
     "output_type": "stream",
     "text": [
      "\n",
      "CREATE TABLE movie_titles (\n",
      "\tmovie_id TEXT, \n",
      "\tmovie_title TEXT, \n",
      "\tyear_of_release TEXT, \n",
      "\t\"IMDB_rating\" FLOAT, \n",
      "\t\"IMDB_number_of_votes\" BIGINT, \n",
      "\tmovie_genre TEXT, \n",
      "\tPRIMARY KEY (movie_id)\n",
      ")\n",
      "\n",
      "/*\n",
      "2 rows from movie_titles table:\n",
      "movie_id\tmovie_title\tyear_of_release\tIMDB_rating\tIMDB_number_of_votes\tmovie_genre\n",
      "m0\t10 things i hate about you\t1999\t6.9\t62847\t['comedy' 'romance']\n",
      "m1\t1492: conquest of paradise\t1992\t6.2\t10421\t['adventure' 'biography' 'drama' 'history']\n",
      "*/\n",
      "\n",
      "\n",
      "CREATE TABLE movie_characters (\n",
      "\tcharacter_id TEXT, \n",
      "\tcharacter_name TEXT, \n",
      "\tmovie_id TEXT, \n",
      "\tmovie_title TEXT, \n",
      "\tgender TEXT, \n",
      "\tposition_in_credits TEXT, \n",
      "\tPRIMARY KEY (character_id), \n",
      "\tFOREIGN KEY(movie_id) REFERENCES movie_titles (movie_id)\n",
      ")\n",
      "\n",
      "/*\n",
      "2 rows from movie_characters table:\n",
      "character_id\tcharacter_name\tmovie_id\tmovie_title\tgender\tposition_in_credits\n",
      "u0\tBIANCA\tm0\t10 things i hate about you\tf\t4\n",
      "u1\tBRUCE\tm0\t10 things i hate about you\t?\t?\n",
      "*/\n",
      "\n",
      "\n",
      "CREATE TABLE movie_script_urls (\n",
      "\tmovie_id TEXT, \n",
      "\tmovie_title TEXT, \n",
      "\tmovie_script_url TEXT, \n",
      "\tPRIMARY KEY (movie_id), \n",
      "\tFOREIGN KEY(movie_id) REFERENCES movie_titles (movie_id)\n",
      ")\n",
      "\n",
      "/*\n",
      "2 rows from movie_script_urls table:\n",
      "movie_id\tmovie_title\tmovie_script_url\n",
      "m0\t10 things i hate about you\thttp://www.dailyscript.com/scripts/10Things.html\n",
      "m1\t1492: conquest of paradise\thttp://www.hundland.org/scripts/1492-ConquestOfParadise.txt\n",
      "*/\n",
      "\n",
      "\n",
      "CREATE TABLE movie_lines (\n",
      "\tmovie_line_id TEXT, \n",
      "\tcharacter_id TEXT, \n",
      "\tmovie_id TEXT, \n",
      "\tcharacter_name TEXT, \n",
      "\tmovie_line_text TEXT, \n",
      "\tPRIMARY KEY (movie_line_id), \n",
      "\tFOREIGN KEY(movie_id) REFERENCES movie_titles (movie_id), \n",
      "\tFOREIGN KEY(character_id) REFERENCES movie_characters (character_id)\n",
      ")\n",
      "\n",
      "/*\n",
      "2 rows from movie_lines table:\n",
      "movie_line_id\tcharacter_id\tmovie_id\tcharacter_name\tmovie_line_text\n",
      "L1045\tu0\tm0\tBIANCA\tThey do not!\n",
      "L1044\tu2\tm0\tCAMERON\tThey do to!\n",
      "*/\n",
      "\n",
      "\n",
      "CREATE TABLE movie_conversations (\n",
      "\tcharacter_id_of_first_character TEXT, \n",
      "\tcharacter_id_of_second_character TEXT, \n",
      "\tmovie_id TEXT, \n",
      "\tmovie_line_id TEXT, \n",
      "\tFOREIGN KEY(movie_id) REFERENCES movie_titles (movie_id), \n",
      "\tFOREIGN KEY(character_id_of_first_character) REFERENCES movie_characters (character_id), \n",
      "\tFOREIGN KEY(character_id_of_second_character) REFERENCES movie_characters (character_id), \n",
      "\tFOREIGN KEY(movie_line_id) REFERENCES movie_lines (movie_line_id)\n",
      ")\n",
      "\n",
      "/*\n",
      "2 rows from movie_conversations table:\n",
      "character_id_of_first_character\tcharacter_id_of_second_character\tmovie_id\tmovie_line_id\n",
      "u0\tu2\tm0\tL194\n",
      "u0\tu2\tm0\tL195\n",
      "*/\n"
     ]
    }
   ],
   "source": [
    "print(db.get_table_info())"
   ]
  },
  {
   "cell_type": "code",
   "execution_count": 19,
   "id": "0c716e3e-ac66-4eca-a682-8a7915604647",
   "metadata": {},
   "outputs": [],
   "source": [
    "# We can declare a SQLDatabaseChain object which can help us in answering queries in natural language\n",
    "db_chain = SQLDatabaseChain(llm=llm, database=db, verbose=True) # if verbose is set to False, it wont show intermediate actions it took.\n"
   ]
  },
  {
   "cell_type": "code",
   "execution_count": 20,
   "id": "ded0660b-27ba-4d93-9951-b3d7ab77e49c",
   "metadata": {},
   "outputs": [
    {
     "name": "stdout",
     "output_type": "stream",
     "text": [
      "\n",
      "\n",
      "\u001b[1m> Entering new SQLDatabaseChain chain...\u001b[0m\n",
      "How many unique movies are there?\n",
      "SQLQuery:\u001b[32;1m\u001b[1;3m SELECT COUNT(DISTINCT movie_title) FROM movie_titles;\u001b[0m\n",
      "SQLResult: \u001b[33;1m\u001b[1;3m[(617,)]\u001b[0m\n",
      "Answer:\u001b[32;1m\u001b[1;3m There are 617 unique movies.\u001b[0m\n",
      "\u001b[1m> Finished chain.\u001b[0m\n"
     ]
    },
    {
     "data": {
      "text/plain": [
       "' There are 617 unique movies.'"
      ]
     },
     "execution_count": 20,
     "metadata": {},
     "output_type": "execute_result"
    }
   ],
   "source": [
    "# Asking a query to the LLM based on our database\n",
    "result = db_chain.run(\"How many unique movies are there?\")\n",
    "result"
   ]
  },
  {
   "cell_type": "markdown",
   "id": "43ecf066-300c-4622-a62e-2ca9e6e29b10",
   "metadata": {},
   "source": [
    "#### As can be seen from the response that LLM was able to generate the correct query and was able to answer correctly"
   ]
  },
  {
   "cell_type": "code",
   "execution_count": 30,
   "id": "71ae1354-f1d6-4be4-839f-3864cc09abda",
   "metadata": {},
   "outputs": [
    {
     "name": "stdout",
     "output_type": "stream",
     "text": [
      "\n",
      "\n",
      "\u001b[1m> Entering new SQLDatabaseChain chain...\u001b[0m\n",
      "which movie has most conversations ?\n",
      "SQLQuery:\u001b[32;1m\u001b[1;3m \"SELECT movie_title, COUNT(*) AS conversations FROM movie_conversations \n",
      "INNER JOIN movie_titles ON movie_conversations.movie_id = movie_titles.movie_id \n",
      "GROUP BY movie_title ORDER BY conversations DESC LIMIT 5\"\u001b[0m"
     ]
    },
    {
     "ename": "OperationalError",
     "evalue": "(sqlite3.OperationalError) near \"\"SELECT movie_title, COUNT(*) AS conversations FROM movie_conversations \nINNER JOIN movie_titles ON movie_conversations.movie_id = movie_titles.movie_id \nGROUP BY movie_title ORDER BY conversations DESC LIMIT 5\"\": syntax error\n[SQL:  \"SELECT movie_title, COUNT(*) AS conversations FROM movie_conversations \nINNER JOIN movie_titles ON movie_conversations.movie_id = movie_titles.movie_id \nGROUP BY movie_title ORDER BY conversations DESC LIMIT 5\"]\n(Background on this error at: https://sqlalche.me/e/14/e3q8)",
     "output_type": "error",
     "traceback": [
      "\u001b[1;31m---------------------------------------------------------------------------\u001b[0m",
      "\u001b[1;31mOperationalError\u001b[0m                          Traceback (most recent call last)",
      "File \u001b[1;32mC:\\ProgramData\\anaconda3_10\\lib\\site-packages\\sqlalchemy\\engine\\base.py:1819\u001b[0m, in \u001b[0;36mConnection._execute_context\u001b[1;34m(self, dialect, constructor, statement, parameters, execution_options, *args, **kw)\u001b[0m\n\u001b[0;32m   1818\u001b[0m     \u001b[38;5;28;01mif\u001b[39;00m \u001b[38;5;129;01mnot\u001b[39;00m evt_handled:\n\u001b[1;32m-> 1819\u001b[0m         \u001b[38;5;28;43mself\u001b[39;49m\u001b[38;5;241;43m.\u001b[39;49m\u001b[43mdialect\u001b[49m\u001b[38;5;241;43m.\u001b[39;49m\u001b[43mdo_execute\u001b[49m\u001b[43m(\u001b[49m\n\u001b[0;32m   1820\u001b[0m \u001b[43m            \u001b[49m\u001b[43mcursor\u001b[49m\u001b[43m,\u001b[49m\u001b[43m \u001b[49m\u001b[43mstatement\u001b[49m\u001b[43m,\u001b[49m\u001b[43m \u001b[49m\u001b[43mparameters\u001b[49m\u001b[43m,\u001b[49m\u001b[43m \u001b[49m\u001b[43mcontext\u001b[49m\n\u001b[0;32m   1821\u001b[0m \u001b[43m        \u001b[49m\u001b[43m)\u001b[49m\n\u001b[0;32m   1823\u001b[0m \u001b[38;5;28;01mif\u001b[39;00m \u001b[38;5;28mself\u001b[39m\u001b[38;5;241m.\u001b[39m_has_events \u001b[38;5;129;01mor\u001b[39;00m \u001b[38;5;28mself\u001b[39m\u001b[38;5;241m.\u001b[39mengine\u001b[38;5;241m.\u001b[39m_has_events:\n",
      "File \u001b[1;32mC:\\ProgramData\\anaconda3_10\\lib\\site-packages\\sqlalchemy\\engine\\default.py:732\u001b[0m, in \u001b[0;36mDefaultDialect.do_execute\u001b[1;34m(self, cursor, statement, parameters, context)\u001b[0m\n\u001b[0;32m    731\u001b[0m \u001b[38;5;28;01mdef\u001b[39;00m \u001b[38;5;21mdo_execute\u001b[39m(\u001b[38;5;28mself\u001b[39m, cursor, statement, parameters, context\u001b[38;5;241m=\u001b[39m\u001b[38;5;28;01mNone\u001b[39;00m):\n\u001b[1;32m--> 732\u001b[0m     \u001b[43mcursor\u001b[49m\u001b[38;5;241;43m.\u001b[39;49m\u001b[43mexecute\u001b[49m\u001b[43m(\u001b[49m\u001b[43mstatement\u001b[49m\u001b[43m,\u001b[49m\u001b[43m \u001b[49m\u001b[43mparameters\u001b[49m\u001b[43m)\u001b[49m\n",
      "\u001b[1;31mOperationalError\u001b[0m: near \"\"SELECT movie_title, COUNT(*) AS conversations FROM movie_conversations \nINNER JOIN movie_titles ON movie_conversations.movie_id = movie_titles.movie_id \nGROUP BY movie_title ORDER BY conversations DESC LIMIT 5\"\": syntax error",
      "\nThe above exception was the direct cause of the following exception:\n",
      "\u001b[1;31mOperationalError\u001b[0m                          Traceback (most recent call last)",
      "Cell \u001b[1;32mIn[30], line 1\u001b[0m\n\u001b[1;32m----> 1\u001b[0m result \u001b[38;5;241m=\u001b[39m \u001b[43mdb_chain\u001b[49m\u001b[38;5;241;43m.\u001b[39;49m\u001b[43mrun\u001b[49m\u001b[43m(\u001b[49m\u001b[38;5;124;43m\"\u001b[39;49m\u001b[38;5;124;43mwhich movie has most conversations ?\u001b[39;49m\u001b[38;5;124;43m\"\u001b[39;49m\u001b[43m)\u001b[49m\n\u001b[0;32m      2\u001b[0m result\n",
      "File \u001b[1;32mC:\\ProgramData\\anaconda3_10\\lib\\site-packages\\langchain\\chains\\base.py:213\u001b[0m, in \u001b[0;36mChain.run\u001b[1;34m(self, *args, **kwargs)\u001b[0m\n\u001b[0;32m    211\u001b[0m     \u001b[38;5;28;01mif\u001b[39;00m \u001b[38;5;28mlen\u001b[39m(args) \u001b[38;5;241m!=\u001b[39m \u001b[38;5;241m1\u001b[39m:\n\u001b[0;32m    212\u001b[0m         \u001b[38;5;28;01mraise\u001b[39;00m \u001b[38;5;167;01mValueError\u001b[39;00m(\u001b[38;5;124m\"\u001b[39m\u001b[38;5;124m`run` supports only one positional argument.\u001b[39m\u001b[38;5;124m\"\u001b[39m)\n\u001b[1;32m--> 213\u001b[0m     \u001b[38;5;28;01mreturn\u001b[39;00m \u001b[38;5;28;43mself\u001b[39;49m\u001b[43m(\u001b[49m\u001b[43margs\u001b[49m\u001b[43m[\u001b[49m\u001b[38;5;241;43m0\u001b[39;49m\u001b[43m]\u001b[49m\u001b[43m)\u001b[49m[\u001b[38;5;28mself\u001b[39m\u001b[38;5;241m.\u001b[39moutput_keys[\u001b[38;5;241m0\u001b[39m]]\n\u001b[0;32m    215\u001b[0m \u001b[38;5;28;01mif\u001b[39;00m kwargs \u001b[38;5;129;01mand\u001b[39;00m \u001b[38;5;129;01mnot\u001b[39;00m args:\n\u001b[0;32m    216\u001b[0m     \u001b[38;5;28;01mreturn\u001b[39;00m \u001b[38;5;28mself\u001b[39m(kwargs)[\u001b[38;5;28mself\u001b[39m\u001b[38;5;241m.\u001b[39moutput_keys[\u001b[38;5;241m0\u001b[39m]]\n",
      "File \u001b[1;32mC:\\ProgramData\\anaconda3_10\\lib\\site-packages\\langchain\\chains\\base.py:116\u001b[0m, in \u001b[0;36mChain.__call__\u001b[1;34m(self, inputs, return_only_outputs)\u001b[0m\n\u001b[0;32m    114\u001b[0m \u001b[38;5;28;01mexcept\u001b[39;00m (\u001b[38;5;167;01mKeyboardInterrupt\u001b[39;00m, \u001b[38;5;167;01mException\u001b[39;00m) \u001b[38;5;28;01mas\u001b[39;00m e:\n\u001b[0;32m    115\u001b[0m     \u001b[38;5;28mself\u001b[39m\u001b[38;5;241m.\u001b[39mcallback_manager\u001b[38;5;241m.\u001b[39mon_chain_error(e, verbose\u001b[38;5;241m=\u001b[39m\u001b[38;5;28mself\u001b[39m\u001b[38;5;241m.\u001b[39mverbose)\n\u001b[1;32m--> 116\u001b[0m     \u001b[38;5;28;01mraise\u001b[39;00m e\n\u001b[0;32m    117\u001b[0m \u001b[38;5;28mself\u001b[39m\u001b[38;5;241m.\u001b[39mcallback_manager\u001b[38;5;241m.\u001b[39mon_chain_end(outputs, verbose\u001b[38;5;241m=\u001b[39m\u001b[38;5;28mself\u001b[39m\u001b[38;5;241m.\u001b[39mverbose)\n\u001b[0;32m    118\u001b[0m \u001b[38;5;28;01mreturn\u001b[39;00m \u001b[38;5;28mself\u001b[39m\u001b[38;5;241m.\u001b[39mprep_outputs(inputs, outputs, return_only_outputs)\n",
      "File \u001b[1;32mC:\\ProgramData\\anaconda3_10\\lib\\site-packages\\langchain\\chains\\base.py:113\u001b[0m, in \u001b[0;36mChain.__call__\u001b[1;34m(self, inputs, return_only_outputs)\u001b[0m\n\u001b[0;32m    107\u001b[0m \u001b[38;5;28mself\u001b[39m\u001b[38;5;241m.\u001b[39mcallback_manager\u001b[38;5;241m.\u001b[39mon_chain_start(\n\u001b[0;32m    108\u001b[0m     {\u001b[38;5;124m\"\u001b[39m\u001b[38;5;124mname\u001b[39m\u001b[38;5;124m\"\u001b[39m: \u001b[38;5;28mself\u001b[39m\u001b[38;5;241m.\u001b[39m\u001b[38;5;18m__class__\u001b[39m\u001b[38;5;241m.\u001b[39m\u001b[38;5;18m__name__\u001b[39m},\n\u001b[0;32m    109\u001b[0m     inputs,\n\u001b[0;32m    110\u001b[0m     verbose\u001b[38;5;241m=\u001b[39m\u001b[38;5;28mself\u001b[39m\u001b[38;5;241m.\u001b[39mverbose,\n\u001b[0;32m    111\u001b[0m )\n\u001b[0;32m    112\u001b[0m \u001b[38;5;28;01mtry\u001b[39;00m:\n\u001b[1;32m--> 113\u001b[0m     outputs \u001b[38;5;241m=\u001b[39m \u001b[38;5;28;43mself\u001b[39;49m\u001b[38;5;241;43m.\u001b[39;49m\u001b[43m_call\u001b[49m\u001b[43m(\u001b[49m\u001b[43minputs\u001b[49m\u001b[43m)\u001b[49m\n\u001b[0;32m    114\u001b[0m \u001b[38;5;28;01mexcept\u001b[39;00m (\u001b[38;5;167;01mKeyboardInterrupt\u001b[39;00m, \u001b[38;5;167;01mException\u001b[39;00m) \u001b[38;5;28;01mas\u001b[39;00m e:\n\u001b[0;32m    115\u001b[0m     \u001b[38;5;28mself\u001b[39m\u001b[38;5;241m.\u001b[39mcallback_manager\u001b[38;5;241m.\u001b[39mon_chain_error(e, verbose\u001b[38;5;241m=\u001b[39m\u001b[38;5;28mself\u001b[39m\u001b[38;5;241m.\u001b[39mverbose)\n",
      "File \u001b[1;32mC:\\ProgramData\\anaconda3_10\\lib\\site-packages\\langchain\\chains\\sql_database\\base.py:86\u001b[0m, in \u001b[0;36mSQLDatabaseChain._call\u001b[1;34m(self, inputs)\u001b[0m\n\u001b[0;32m     84\u001b[0m intermediate_steps\u001b[38;5;241m.\u001b[39mappend(sql_cmd)\n\u001b[0;32m     85\u001b[0m \u001b[38;5;28mself\u001b[39m\u001b[38;5;241m.\u001b[39mcallback_manager\u001b[38;5;241m.\u001b[39mon_text(sql_cmd, color\u001b[38;5;241m=\u001b[39m\u001b[38;5;124m\"\u001b[39m\u001b[38;5;124mgreen\u001b[39m\u001b[38;5;124m\"\u001b[39m, verbose\u001b[38;5;241m=\u001b[39m\u001b[38;5;28mself\u001b[39m\u001b[38;5;241m.\u001b[39mverbose)\n\u001b[1;32m---> 86\u001b[0m result \u001b[38;5;241m=\u001b[39m \u001b[38;5;28;43mself\u001b[39;49m\u001b[38;5;241;43m.\u001b[39;49m\u001b[43mdatabase\u001b[49m\u001b[38;5;241;43m.\u001b[39;49m\u001b[43mrun\u001b[49m\u001b[43m(\u001b[49m\u001b[43msql_cmd\u001b[49m\u001b[43m)\u001b[49m\n\u001b[0;32m     87\u001b[0m intermediate_steps\u001b[38;5;241m.\u001b[39mappend(result)\n\u001b[0;32m     88\u001b[0m \u001b[38;5;28mself\u001b[39m\u001b[38;5;241m.\u001b[39mcallback_manager\u001b[38;5;241m.\u001b[39mon_text(\u001b[38;5;124m\"\u001b[39m\u001b[38;5;130;01m\\n\u001b[39;00m\u001b[38;5;124mSQLResult: \u001b[39m\u001b[38;5;124m\"\u001b[39m, verbose\u001b[38;5;241m=\u001b[39m\u001b[38;5;28mself\u001b[39m\u001b[38;5;241m.\u001b[39mverbose)\n",
      "File \u001b[1;32mC:\\ProgramData\\anaconda3_10\\lib\\site-packages\\langchain\\sql_database.py:220\u001b[0m, in \u001b[0;36mSQLDatabase.run\u001b[1;34m(self, command, fetch)\u001b[0m\n\u001b[0;32m    218\u001b[0m \u001b[38;5;28;01mif\u001b[39;00m \u001b[38;5;28mself\u001b[39m\u001b[38;5;241m.\u001b[39m_schema \u001b[38;5;129;01mis\u001b[39;00m \u001b[38;5;129;01mnot\u001b[39;00m \u001b[38;5;28;01mNone\u001b[39;00m:\n\u001b[0;32m    219\u001b[0m     connection\u001b[38;5;241m.\u001b[39mexec_driver_sql(\u001b[38;5;124mf\u001b[39m\u001b[38;5;124m\"\u001b[39m\u001b[38;5;124mSET search_path TO \u001b[39m\u001b[38;5;132;01m{\u001b[39;00m\u001b[38;5;28mself\u001b[39m\u001b[38;5;241m.\u001b[39m_schema\u001b[38;5;132;01m}\u001b[39;00m\u001b[38;5;124m\"\u001b[39m)\n\u001b[1;32m--> 220\u001b[0m cursor \u001b[38;5;241m=\u001b[39m \u001b[43mconnection\u001b[49m\u001b[38;5;241;43m.\u001b[39;49m\u001b[43mexecute\u001b[49m\u001b[43m(\u001b[49m\u001b[43mtext\u001b[49m\u001b[43m(\u001b[49m\u001b[43mcommand\u001b[49m\u001b[43m)\u001b[49m\u001b[43m)\u001b[49m\n\u001b[0;32m    221\u001b[0m \u001b[38;5;28;01mif\u001b[39;00m cursor\u001b[38;5;241m.\u001b[39mreturns_rows:\n\u001b[0;32m    222\u001b[0m     \u001b[38;5;28;01mif\u001b[39;00m fetch \u001b[38;5;241m==\u001b[39m \u001b[38;5;124m\"\u001b[39m\u001b[38;5;124mall\u001b[39m\u001b[38;5;124m\"\u001b[39m:\n",
      "File \u001b[1;32mC:\\ProgramData\\anaconda3_10\\lib\\site-packages\\sqlalchemy\\engine\\base.py:1306\u001b[0m, in \u001b[0;36mConnection.execute\u001b[1;34m(self, statement, *multiparams, **params)\u001b[0m\n\u001b[0;32m   1302\u001b[0m     util\u001b[38;5;241m.\u001b[39mraise_(\n\u001b[0;32m   1303\u001b[0m         exc\u001b[38;5;241m.\u001b[39mObjectNotExecutableError(statement), replace_context\u001b[38;5;241m=\u001b[39merr\n\u001b[0;32m   1304\u001b[0m     )\n\u001b[0;32m   1305\u001b[0m \u001b[38;5;28;01melse\u001b[39;00m:\n\u001b[1;32m-> 1306\u001b[0m     \u001b[38;5;28;01mreturn\u001b[39;00m \u001b[43mmeth\u001b[49m\u001b[43m(\u001b[49m\u001b[38;5;28;43mself\u001b[39;49m\u001b[43m,\u001b[49m\u001b[43m \u001b[49m\u001b[43mmultiparams\u001b[49m\u001b[43m,\u001b[49m\u001b[43m \u001b[49m\u001b[43mparams\u001b[49m\u001b[43m,\u001b[49m\u001b[43m \u001b[49m\u001b[43m_EMPTY_EXECUTION_OPTS\u001b[49m\u001b[43m)\u001b[49m\n",
      "File \u001b[1;32mC:\\ProgramData\\anaconda3_10\\lib\\site-packages\\sqlalchemy\\sql\\elements.py:332\u001b[0m, in \u001b[0;36mClauseElement._execute_on_connection\u001b[1;34m(self, connection, multiparams, params, execution_options, _force)\u001b[0m\n\u001b[0;32m    328\u001b[0m \u001b[38;5;28;01mdef\u001b[39;00m \u001b[38;5;21m_execute_on_connection\u001b[39m(\n\u001b[0;32m    329\u001b[0m     \u001b[38;5;28mself\u001b[39m, connection, multiparams, params, execution_options, _force\u001b[38;5;241m=\u001b[39m\u001b[38;5;28;01mFalse\u001b[39;00m\n\u001b[0;32m    330\u001b[0m ):\n\u001b[0;32m    331\u001b[0m     \u001b[38;5;28;01mif\u001b[39;00m _force \u001b[38;5;129;01mor\u001b[39;00m \u001b[38;5;28mself\u001b[39m\u001b[38;5;241m.\u001b[39msupports_execution:\n\u001b[1;32m--> 332\u001b[0m         \u001b[38;5;28;01mreturn\u001b[39;00m \u001b[43mconnection\u001b[49m\u001b[38;5;241;43m.\u001b[39;49m\u001b[43m_execute_clauseelement\u001b[49m\u001b[43m(\u001b[49m\n\u001b[0;32m    333\u001b[0m \u001b[43m            \u001b[49m\u001b[38;5;28;43mself\u001b[39;49m\u001b[43m,\u001b[49m\u001b[43m \u001b[49m\u001b[43mmultiparams\u001b[49m\u001b[43m,\u001b[49m\u001b[43m \u001b[49m\u001b[43mparams\u001b[49m\u001b[43m,\u001b[49m\u001b[43m \u001b[49m\u001b[43mexecution_options\u001b[49m\n\u001b[0;32m    334\u001b[0m \u001b[43m        \u001b[49m\u001b[43m)\u001b[49m\n\u001b[0;32m    335\u001b[0m     \u001b[38;5;28;01melse\u001b[39;00m:\n\u001b[0;32m    336\u001b[0m         \u001b[38;5;28;01mraise\u001b[39;00m exc\u001b[38;5;241m.\u001b[39mObjectNotExecutableError(\u001b[38;5;28mself\u001b[39m)\n",
      "File \u001b[1;32mC:\\ProgramData\\anaconda3_10\\lib\\site-packages\\sqlalchemy\\engine\\base.py:1498\u001b[0m, in \u001b[0;36mConnection._execute_clauseelement\u001b[1;34m(self, elem, multiparams, params, execution_options)\u001b[0m\n\u001b[0;32m   1486\u001b[0m compiled_cache \u001b[38;5;241m=\u001b[39m execution_options\u001b[38;5;241m.\u001b[39mget(\n\u001b[0;32m   1487\u001b[0m     \u001b[38;5;124m\"\u001b[39m\u001b[38;5;124mcompiled_cache\u001b[39m\u001b[38;5;124m\"\u001b[39m, \u001b[38;5;28mself\u001b[39m\u001b[38;5;241m.\u001b[39mengine\u001b[38;5;241m.\u001b[39m_compiled_cache\n\u001b[0;32m   1488\u001b[0m )\n\u001b[0;32m   1490\u001b[0m compiled_sql, extracted_params, cache_hit \u001b[38;5;241m=\u001b[39m elem\u001b[38;5;241m.\u001b[39m_compile_w_cache(\n\u001b[0;32m   1491\u001b[0m     dialect\u001b[38;5;241m=\u001b[39mdialect,\n\u001b[0;32m   1492\u001b[0m     compiled_cache\u001b[38;5;241m=\u001b[39mcompiled_cache,\n\u001b[1;32m   (...)\u001b[0m\n\u001b[0;32m   1496\u001b[0m     linting\u001b[38;5;241m=\u001b[39m\u001b[38;5;28mself\u001b[39m\u001b[38;5;241m.\u001b[39mdialect\u001b[38;5;241m.\u001b[39mcompiler_linting \u001b[38;5;241m|\u001b[39m compiler\u001b[38;5;241m.\u001b[39mWARN_LINTING,\n\u001b[0;32m   1497\u001b[0m )\n\u001b[1;32m-> 1498\u001b[0m ret \u001b[38;5;241m=\u001b[39m \u001b[38;5;28;43mself\u001b[39;49m\u001b[38;5;241;43m.\u001b[39;49m\u001b[43m_execute_context\u001b[49m\u001b[43m(\u001b[49m\n\u001b[0;32m   1499\u001b[0m \u001b[43m    \u001b[49m\u001b[43mdialect\u001b[49m\u001b[43m,\u001b[49m\n\u001b[0;32m   1500\u001b[0m \u001b[43m    \u001b[49m\u001b[43mdialect\u001b[49m\u001b[38;5;241;43m.\u001b[39;49m\u001b[43mexecution_ctx_cls\u001b[49m\u001b[38;5;241;43m.\u001b[39;49m\u001b[43m_init_compiled\u001b[49m\u001b[43m,\u001b[49m\n\u001b[0;32m   1501\u001b[0m \u001b[43m    \u001b[49m\u001b[43mcompiled_sql\u001b[49m\u001b[43m,\u001b[49m\n\u001b[0;32m   1502\u001b[0m \u001b[43m    \u001b[49m\u001b[43mdistilled_params\u001b[49m\u001b[43m,\u001b[49m\n\u001b[0;32m   1503\u001b[0m \u001b[43m    \u001b[49m\u001b[43mexecution_options\u001b[49m\u001b[43m,\u001b[49m\n\u001b[0;32m   1504\u001b[0m \u001b[43m    \u001b[49m\u001b[43mcompiled_sql\u001b[49m\u001b[43m,\u001b[49m\n\u001b[0;32m   1505\u001b[0m \u001b[43m    \u001b[49m\u001b[43mdistilled_params\u001b[49m\u001b[43m,\u001b[49m\n\u001b[0;32m   1506\u001b[0m \u001b[43m    \u001b[49m\u001b[43melem\u001b[49m\u001b[43m,\u001b[49m\n\u001b[0;32m   1507\u001b[0m \u001b[43m    \u001b[49m\u001b[43mextracted_params\u001b[49m\u001b[43m,\u001b[49m\n\u001b[0;32m   1508\u001b[0m \u001b[43m    \u001b[49m\u001b[43mcache_hit\u001b[49m\u001b[38;5;241;43m=\u001b[39;49m\u001b[43mcache_hit\u001b[49m\u001b[43m,\u001b[49m\n\u001b[0;32m   1509\u001b[0m \u001b[43m\u001b[49m\u001b[43m)\u001b[49m\n\u001b[0;32m   1510\u001b[0m \u001b[38;5;28;01mif\u001b[39;00m has_events:\n\u001b[0;32m   1511\u001b[0m     \u001b[38;5;28mself\u001b[39m\u001b[38;5;241m.\u001b[39mdispatch\u001b[38;5;241m.\u001b[39mafter_execute(\n\u001b[0;32m   1512\u001b[0m         \u001b[38;5;28mself\u001b[39m,\n\u001b[0;32m   1513\u001b[0m         elem,\n\u001b[1;32m   (...)\u001b[0m\n\u001b[0;32m   1517\u001b[0m         ret,\n\u001b[0;32m   1518\u001b[0m     )\n",
      "File \u001b[1;32mC:\\ProgramData\\anaconda3_10\\lib\\site-packages\\sqlalchemy\\engine\\base.py:1862\u001b[0m, in \u001b[0;36mConnection._execute_context\u001b[1;34m(self, dialect, constructor, statement, parameters, execution_options, *args, **kw)\u001b[0m\n\u001b[0;32m   1859\u001b[0m             branched\u001b[38;5;241m.\u001b[39mclose()\n\u001b[0;32m   1861\u001b[0m \u001b[38;5;28;01mexcept\u001b[39;00m \u001b[38;5;167;01mBaseException\u001b[39;00m \u001b[38;5;28;01mas\u001b[39;00m e:\n\u001b[1;32m-> 1862\u001b[0m     \u001b[38;5;28;43mself\u001b[39;49m\u001b[38;5;241;43m.\u001b[39;49m\u001b[43m_handle_dbapi_exception\u001b[49m\u001b[43m(\u001b[49m\n\u001b[0;32m   1863\u001b[0m \u001b[43m        \u001b[49m\u001b[43me\u001b[49m\u001b[43m,\u001b[49m\u001b[43m \u001b[49m\u001b[43mstatement\u001b[49m\u001b[43m,\u001b[49m\u001b[43m \u001b[49m\u001b[43mparameters\u001b[49m\u001b[43m,\u001b[49m\u001b[43m \u001b[49m\u001b[43mcursor\u001b[49m\u001b[43m,\u001b[49m\u001b[43m \u001b[49m\u001b[43mcontext\u001b[49m\n\u001b[0;32m   1864\u001b[0m \u001b[43m    \u001b[49m\u001b[43m)\u001b[49m\n\u001b[0;32m   1866\u001b[0m \u001b[38;5;28;01mreturn\u001b[39;00m result\n",
      "File \u001b[1;32mC:\\ProgramData\\anaconda3_10\\lib\\site-packages\\sqlalchemy\\engine\\base.py:2043\u001b[0m, in \u001b[0;36mConnection._handle_dbapi_exception\u001b[1;34m(self, e, statement, parameters, cursor, context)\u001b[0m\n\u001b[0;32m   2041\u001b[0m     util\u001b[38;5;241m.\u001b[39mraise_(newraise, with_traceback\u001b[38;5;241m=\u001b[39mexc_info[\u001b[38;5;241m2\u001b[39m], from_\u001b[38;5;241m=\u001b[39me)\n\u001b[0;32m   2042\u001b[0m \u001b[38;5;28;01melif\u001b[39;00m should_wrap:\n\u001b[1;32m-> 2043\u001b[0m     \u001b[43mutil\u001b[49m\u001b[38;5;241;43m.\u001b[39;49m\u001b[43mraise_\u001b[49m\u001b[43m(\u001b[49m\n\u001b[0;32m   2044\u001b[0m \u001b[43m        \u001b[49m\u001b[43msqlalchemy_exception\u001b[49m\u001b[43m,\u001b[49m\u001b[43m \u001b[49m\u001b[43mwith_traceback\u001b[49m\u001b[38;5;241;43m=\u001b[39;49m\u001b[43mexc_info\u001b[49m\u001b[43m[\u001b[49m\u001b[38;5;241;43m2\u001b[39;49m\u001b[43m]\u001b[49m\u001b[43m,\u001b[49m\u001b[43m \u001b[49m\u001b[43mfrom_\u001b[49m\u001b[38;5;241;43m=\u001b[39;49m\u001b[43me\u001b[49m\n\u001b[0;32m   2045\u001b[0m \u001b[43m    \u001b[49m\u001b[43m)\u001b[49m\n\u001b[0;32m   2046\u001b[0m \u001b[38;5;28;01melse\u001b[39;00m:\n\u001b[0;32m   2047\u001b[0m     util\u001b[38;5;241m.\u001b[39mraise_(exc_info[\u001b[38;5;241m1\u001b[39m], with_traceback\u001b[38;5;241m=\u001b[39mexc_info[\u001b[38;5;241m2\u001b[39m])\n",
      "File \u001b[1;32mC:\\ProgramData\\anaconda3_10\\lib\\site-packages\\sqlalchemy\\util\\compat.py:208\u001b[0m, in \u001b[0;36mraise_\u001b[1;34m(***failed resolving arguments***)\u001b[0m\n\u001b[0;32m    205\u001b[0m     exception\u001b[38;5;241m.\u001b[39m__cause__ \u001b[38;5;241m=\u001b[39m replace_context\n\u001b[0;32m    207\u001b[0m \u001b[38;5;28;01mtry\u001b[39;00m:\n\u001b[1;32m--> 208\u001b[0m     \u001b[38;5;28;01mraise\u001b[39;00m exception\n\u001b[0;32m    209\u001b[0m \u001b[38;5;28;01mfinally\u001b[39;00m:\n\u001b[0;32m    210\u001b[0m     \u001b[38;5;66;03m# credit to\u001b[39;00m\n\u001b[0;32m    211\u001b[0m     \u001b[38;5;66;03m# https://cosmicpercolator.com/2016/01/13/exception-leaks-in-python-2-and-3/\u001b[39;00m\n\u001b[0;32m    212\u001b[0m     \u001b[38;5;66;03m# as the __traceback__ object creates a cycle\u001b[39;00m\n\u001b[0;32m    213\u001b[0m     \u001b[38;5;28;01mdel\u001b[39;00m exception, replace_context, from_, with_traceback\n",
      "File \u001b[1;32mC:\\ProgramData\\anaconda3_10\\lib\\site-packages\\sqlalchemy\\engine\\base.py:1819\u001b[0m, in \u001b[0;36mConnection._execute_context\u001b[1;34m(self, dialect, constructor, statement, parameters, execution_options, *args, **kw)\u001b[0m\n\u001b[0;32m   1817\u001b[0m                 \u001b[38;5;28;01mbreak\u001b[39;00m\n\u001b[0;32m   1818\u001b[0m     \u001b[38;5;28;01mif\u001b[39;00m \u001b[38;5;129;01mnot\u001b[39;00m evt_handled:\n\u001b[1;32m-> 1819\u001b[0m         \u001b[38;5;28;43mself\u001b[39;49m\u001b[38;5;241;43m.\u001b[39;49m\u001b[43mdialect\u001b[49m\u001b[38;5;241;43m.\u001b[39;49m\u001b[43mdo_execute\u001b[49m\u001b[43m(\u001b[49m\n\u001b[0;32m   1820\u001b[0m \u001b[43m            \u001b[49m\u001b[43mcursor\u001b[49m\u001b[43m,\u001b[49m\u001b[43m \u001b[49m\u001b[43mstatement\u001b[49m\u001b[43m,\u001b[49m\u001b[43m \u001b[49m\u001b[43mparameters\u001b[49m\u001b[43m,\u001b[49m\u001b[43m \u001b[49m\u001b[43mcontext\u001b[49m\n\u001b[0;32m   1821\u001b[0m \u001b[43m        \u001b[49m\u001b[43m)\u001b[49m\n\u001b[0;32m   1823\u001b[0m \u001b[38;5;28;01mif\u001b[39;00m \u001b[38;5;28mself\u001b[39m\u001b[38;5;241m.\u001b[39m_has_events \u001b[38;5;129;01mor\u001b[39;00m \u001b[38;5;28mself\u001b[39m\u001b[38;5;241m.\u001b[39mengine\u001b[38;5;241m.\u001b[39m_has_events:\n\u001b[0;32m   1824\u001b[0m     \u001b[38;5;28mself\u001b[39m\u001b[38;5;241m.\u001b[39mdispatch\u001b[38;5;241m.\u001b[39mafter_cursor_execute(\n\u001b[0;32m   1825\u001b[0m         \u001b[38;5;28mself\u001b[39m,\n\u001b[0;32m   1826\u001b[0m         cursor,\n\u001b[1;32m   (...)\u001b[0m\n\u001b[0;32m   1830\u001b[0m         context\u001b[38;5;241m.\u001b[39mexecutemany,\n\u001b[0;32m   1831\u001b[0m     )\n",
      "File \u001b[1;32mC:\\ProgramData\\anaconda3_10\\lib\\site-packages\\sqlalchemy\\engine\\default.py:732\u001b[0m, in \u001b[0;36mDefaultDialect.do_execute\u001b[1;34m(self, cursor, statement, parameters, context)\u001b[0m\n\u001b[0;32m    731\u001b[0m \u001b[38;5;28;01mdef\u001b[39;00m \u001b[38;5;21mdo_execute\u001b[39m(\u001b[38;5;28mself\u001b[39m, cursor, statement, parameters, context\u001b[38;5;241m=\u001b[39m\u001b[38;5;28;01mNone\u001b[39;00m):\n\u001b[1;32m--> 732\u001b[0m     \u001b[43mcursor\u001b[49m\u001b[38;5;241;43m.\u001b[39;49m\u001b[43mexecute\u001b[49m\u001b[43m(\u001b[49m\u001b[43mstatement\u001b[49m\u001b[43m,\u001b[49m\u001b[43m \u001b[49m\u001b[43mparameters\u001b[49m\u001b[43m)\u001b[49m\n",
      "\u001b[1;31mOperationalError\u001b[0m: (sqlite3.OperationalError) near \"\"SELECT movie_title, COUNT(*) AS conversations FROM movie_conversations \nINNER JOIN movie_titles ON movie_conversations.movie_id = movie_titles.movie_id \nGROUP BY movie_title ORDER BY conversations DESC LIMIT 5\"\": syntax error\n[SQL:  \"SELECT movie_title, COUNT(*) AS conversations FROM movie_conversations \nINNER JOIN movie_titles ON movie_conversations.movie_id = movie_titles.movie_id \nGROUP BY movie_title ORDER BY conversations DESC LIMIT 5\"]\n(Background on this error at: https://sqlalche.me/e/14/e3q8)"
     ]
    }
   ],
   "source": [
    "result = db_chain.run(\"which movie has most conversations ? \")\n",
    "result"
   ]
  },
  {
   "cell_type": "markdown",
   "id": "f1368086-1bf6-410f-8d24-8f31c26f2a79",
   "metadata": {},
   "source": [
    "For some reason, we see that the LLM generated the intermediate sql query with quotes and hence the process failed. \n",
    "\n",
    "In the next prompt, we can add specific instructions to not use quotes and we can see that it generated the result correctly once we did that. (We need to engineer the prompt which makes the LLM less error prone).\n",
    "\n",
    "We can also change the default prompt used by langchain but we'll see that later in the notebook\n"
   ]
  },
  {
   "cell_type": "code",
   "execution_count": 31,
   "id": "4a721585-8e33-451f-abd5-de3f84811f24",
   "metadata": {},
   "outputs": [
    {
     "name": "stdout",
     "output_type": "stream",
     "text": [
      "\n",
      "\n",
      "\u001b[1m> Entering new SQLDatabaseChain chain...\u001b[0m\n",
      "which movie has most conversations ? generate sql query without quotes\n",
      "SQLQuery:\u001b[32;1m\u001b[1;3m SELECT movie_title, COUNT(*) AS conversations_count FROM movie_conversations JOIN movie_titles ON movie_conversations.movie_id = movie_titles.movie_id GROUP BY movie_title ORDER BY conversations_count DESC LIMIT 5;\u001b[0m\n",
      "SQLResult: \u001b[33;1m\u001b[1;3m[('casino', 1530), ('chill factor', 1398), ('clerks.', 1286), ('jackie brown', 1214), ('all about eve', 1187)]\u001b[0m\n",
      "Answer:\u001b[32;1m\u001b[1;3m The movie with the most conversations is Casino with 1530 conversations.\u001b[0m\n",
      "\u001b[1m> Finished chain.\u001b[0m\n"
     ]
    },
    {
     "data": {
      "text/plain": [
       "' The movie with the most conversations is Casino with 1530 conversations.'"
      ]
     },
     "execution_count": 31,
     "metadata": {},
     "output_type": "execute_result"
    }
   ],
   "source": [
    "result = db_chain.run(\"which movie has most conversations ? generate sql query without quotes\")\n",
    "result"
   ]
  },
  {
   "cell_type": "markdown",
   "id": "e8cca9ec-5722-43bb-a590-01ea9b23deeb",
   "metadata": {},
   "source": [
    "#### To Obtain intermediate step details as well, we can use below code instead. (In case if we want to access intermediate sql query or results via code)\n"
   ]
  },
  {
   "cell_type": "code",
   "execution_count": 32,
   "id": "74e30f8b-b70b-4a29-a741-df3095ecdab4",
   "metadata": {},
   "outputs": [
    {
     "name": "stdout",
     "output_type": "stream",
     "text": [
      "\n",
      "\n",
      "\u001b[1m> Entering new SQLDatabaseChain chain...\u001b[0m\n",
      "which movie has most conversations ? generate sql query without quotes\n",
      "SQLQuery:"
     ]
    },
    {
     "name": "stderr",
     "output_type": "stream",
     "text": [
      "Retrying langchain.llms.openai.completion_with_retry.<locals>._completion_with_retry in 4.0 seconds as it raised APIConnectionError: Error communicating with OpenAI: ('Connection aborted.', RemoteDisconnected('Remote end closed connection without response')).\n"
     ]
    },
    {
     "name": "stdout",
     "output_type": "stream",
     "text": [
      "\u001b[32;1m\u001b[1;3m SELECT movie_title, COUNT(*) AS conversations_count FROM movie_conversations JOIN movie_titles ON movie_conversations.movie_id = movie_titles.movie_id GROUP BY movie_title ORDER BY conversations_count DESC LIMIT 5;\u001b[0m\n",
      "SQLResult: \u001b[33;1m\u001b[1;3m[('casino', 1530), ('chill factor', 1398), ('clerks.', 1286), ('jackie brown', 1214), ('all about eve', 1187)]\u001b[0m\n",
      "Answer:\u001b[32;1m\u001b[1;3m The movie with the most conversations is Casino with 1530 conversations.\u001b[0m\n",
      "\u001b[1m> Finished chain.\u001b[0m\n"
     ]
    },
    {
     "data": {
      "text/plain": [
       "{'query': 'which movie has most conversations ? generate sql query without quotes',\n",
       " 'result': ' The movie with the most conversations is Casino with 1530 conversations.',\n",
       " 'intermediate_steps': [' SELECT movie_title, COUNT(*) AS conversations_count FROM movie_conversations JOIN movie_titles ON movie_conversations.movie_id = movie_titles.movie_id GROUP BY movie_title ORDER BY conversations_count DESC LIMIT 5;',\n",
       "  \"[('casino', 1530), ('chill factor', 1398), ('clerks.', 1286), ('jackie brown', 1214), ('all about eve', 1187)]\"]}"
      ]
     },
     "execution_count": 32,
     "metadata": {},
     "output_type": "execute_result"
    }
   ],
   "source": [
    "db_chain_interim = SQLDatabaseChain(llm=llm, database=db, verbose=True, return_intermediate_steps=True)\n",
    "result_full = db_chain_interim(\"which movie has most conversations ? generate sql query without quotes\")\n",
    "result_full"
   ]
  },
  {
   "cell_type": "code",
   "execution_count": 35,
   "id": "98a81d11-4f49-4f82-9910-329ded482679",
   "metadata": {},
   "outputs": [
    {
     "name": "stdout",
     "output_type": "stream",
     "text": [
      "Intermediate Query -   SELECT movie_title, COUNT(*) AS conversations_count FROM movie_conversations JOIN movie_titles ON movie_conversations.movie_id = movie_titles.movie_id GROUP BY movie_title ORDER BY conversations_count DESC LIMIT 5;\n",
      "Intermediate Result -  [('casino', 1530), ('chill factor', 1398), ('clerks.', 1286), ('jackie brown', 1214), ('all about eve', 1187)]\n"
     ]
    }
   ],
   "source": [
    "# Obtaining intermediate query and intermediate results\n",
    "intermediate_query= result_full.get(\"intermediate_steps\", [\"\"])[0]\n",
    "intermediate_result= result_full.get(\"intermediate_steps\", [\"\"])[1]\n",
    "print(\"Intermediate Query - \", intermediate_query)\n",
    "print(\"Intermediate Result - \", intermediate_result)"
   ]
  },
  {
   "cell_type": "code",
   "execution_count": 39,
   "id": "b808d788-47fc-4303-ac67-aec589237602",
   "metadata": {},
   "outputs": [
    {
     "data": {
      "text/html": [
       "<div>\n",
       "<style scoped>\n",
       "    .dataframe tbody tr th:only-of-type {\n",
       "        vertical-align: middle;\n",
       "    }\n",
       "\n",
       "    .dataframe tbody tr th {\n",
       "        vertical-align: top;\n",
       "    }\n",
       "\n",
       "    .dataframe thead th {\n",
       "        text-align: right;\n",
       "    }\n",
       "</style>\n",
       "<table border=\"1\" class=\"dataframe\">\n",
       "  <thead>\n",
       "    <tr style=\"text-align: right;\">\n",
       "      <th></th>\n",
       "      <th>movie_title</th>\n",
       "      <th>COUNT(*) AS conversations_count</th>\n",
       "    </tr>\n",
       "  </thead>\n",
       "  <tbody>\n",
       "    <tr>\n",
       "      <th>0</th>\n",
       "      <td>casino</td>\n",
       "      <td>1530</td>\n",
       "    </tr>\n",
       "    <tr>\n",
       "      <th>1</th>\n",
       "      <td>chillfactor</td>\n",
       "      <td>1398</td>\n",
       "    </tr>\n",
       "    <tr>\n",
       "      <th>2</th>\n",
       "      <td>clerks.</td>\n",
       "      <td>1286</td>\n",
       "    </tr>\n",
       "    <tr>\n",
       "      <th>3</th>\n",
       "      <td>jackiebrown</td>\n",
       "      <td>1214</td>\n",
       "    </tr>\n",
       "    <tr>\n",
       "      <th>4</th>\n",
       "      <td>allabouteve</td>\n",
       "      <td>1187</td>\n",
       "    </tr>\n",
       "  </tbody>\n",
       "</table>\n",
       "</div>"
      ],
      "text/plain": [
       "   movie_title  COUNT(*) AS conversations_count\n",
       "0       casino                             1530\n",
       "1  chillfactor                             1398\n",
       "2      clerks.                             1286\n",
       "3  jackiebrown                             1214\n",
       "4  allabouteve                             1187"
      ]
     },
     "execution_count": 39,
     "metadata": {},
     "output_type": "execute_result"
    }
   ],
   "source": [
    "#  Converting intermediate results into pandas dataframe\n",
    "import pandas as pd\n",
    "import re\n",
    "columns = intermediate_query.split('FROM')[0].split('SELECT')[1].strip().split(\",\")\n",
    "\n",
    "data_list = []\n",
    "for substr in intermediate_result.split('),'):\n",
    "    temp_str = re.sub(\"|\\[|\\]|'|\\(|\\)|\\s\", '', substr)\n",
    "    temp_str = list(temp_str.split(','))\n",
    "    data_list.append(temp_str)\n",
    "df = pd.DataFrame(data_list, columns=columns)   \n",
    "df"
   ]
  },
  {
   "cell_type": "code",
   "execution_count": 49,
   "id": "6bddc60a-acfa-4dfe-967b-d424d85d2aa8",
   "metadata": {},
   "outputs": [
    {
     "name": "stdout",
     "output_type": "stream",
     "text": [
      "\n",
      "\n",
      "\u001b[1m> Entering new SQLDatabaseChain chain...\u001b[0m\n",
      "which movie are similiar to star wars based on rating and genre?, generate sql query without quotes\n",
      "SQLQuery:\u001b[32;1m\u001b[1;3m SELECT movie_title, IMDB_rating, movie_genre FROM movie_titles WHERE movie_genre LIKE '%sci-fi%' AND IMDB_rating > 8.0 ORDER BY IMDB_rating DESC LIMIT 5\u001b[0m\n",
      "SQLResult: \u001b[33;1m\u001b[1;3m[('neuromancer', 9.3, \"['action' 'adventure' 'animation' 'sci-fi']\"), ('star wars', 8.8, \"['action' 'adventure' 'fantasy' 'sci-fi']\"), ('the matrix', 8.7, \"['action' 'adventure' 'adventure' 'adventure' 'sci-fi']\"), ('aliens', 8.5, \"['action' 'sci-fi' 'thriller']\"), ('eternal sunshine of the spotless mind', 8.5, \"['drama' 'romance' 'sci-fi']\")]\u001b[0m\n",
      "Answer:\u001b[32;1m\u001b[1;3m The top 5 movies similar to Star Wars based on rating and genre are Neuromancer, Star Wars, The Matrix, Aliens, and Eternal Sunshine of the Spotless Mind.\u001b[0m\n",
      "\u001b[1m> Finished chain.\u001b[0m\n"
     ]
    },
    {
     "data": {
      "text/plain": [
       "' The top 5 movies similar to Star Wars based on rating and genre are Neuromancer, Star Wars, The Matrix, Aliens, and Eternal Sunshine of the Spotless Mind.'"
      ]
     },
     "execution_count": 49,
     "metadata": {},
     "output_type": "execute_result"
    }
   ],
   "source": [
    "result = db_chain.run(\"which movie are similiar to star wars based on rating and genre?, generate sql query without quotes\")\n",
    "result"
   ]
  },
  {
   "cell_type": "markdown",
   "id": "75b40045-84a2-4631-884b-887af186f21c",
   "metadata": {},
   "source": [
    "Above query was also returning error earlier so I had to add additional instruction in prompt to generate sql query without quotes.. Now lets see how we can modify the initial prompt itself and whether it is useful to do it or not in this case."
   ]
  },
  {
   "cell_type": "code",
   "execution_count": 112,
   "id": "0ba06510-b666-46e2-a152-e8a34850efc4",
   "metadata": {},
   "outputs": [],
   "source": [
    "from langchain.prompts.prompt import PromptTemplate\n",
    "\n",
    "_NEW_PROMPT_TEMPLATE = \"\"\"Given an input question, first create a syntactically correct {dialect} query to run, then look at the results of the query and return the answer. \n",
    "Unless the user specifies in his question a specific number of examples he wishes to obtain, always limit your query to at most {top_k} results. \n",
    "You can order the results by a relevant column to return the most interesting examples in the database.\n",
    "Never query for all the columns from a specific table, only look for the few relevant columns given the question.\n",
    "Pay attention to use only the column names that you can see in the schema description. Be careful to not query for columns that do not exist. Also, pay attention to which column is in which table.\n",
    "Make sure only to answer questions based on given database tables and script urls unless specified later explicitly, also provide your sources in result. Generate sql query without quotes.\n",
    "        Use the following format:\n",
    "\n",
    "        Question: \"Question here\"\n",
    "        SQLQuery: \"SQL Query to run\"\n",
    "        SQLResult: \"Result of the SQLQuery\"\n",
    "        Answer: \"Final answer here along with source\"\n",
    "\n",
    "        Only use the tables listed below.\n",
    "        {table_info}\n",
    "\n",
    "        Question: {input}\n",
    "        \"\"\""
   ]
  },
  {
   "cell_type": "markdown",
   "id": "4f306af7-265c-437e-be12-0581d611e1a8",
   "metadata": {},
   "source": [
    "I modified the initial prompt a lot, added instruction to only answer question based on given database tables and also asked to give the sources, also added instruction to generate sql query without quotes. Lets see if it works"
   ]
  },
  {
   "cell_type": "code",
   "execution_count": 113,
   "id": "c833b652-ba9c-40b9-b371-f46032a94cbe",
   "metadata": {},
   "outputs": [],
   "source": [
    "PROMPT = PromptTemplate(\n",
    "            input_variables=[\"input\", \"table_info\", \"dialect\", \"top_k\"], \n",
    "            template=_NEW_PROMPT_TEMPLATE\n",
    "        )\n"
   ]
  },
  {
   "cell_type": "code",
   "execution_count": 114,
   "id": "ba4213db-8a91-4dd9-b881-4605c7e5ec1d",
   "metadata": {},
   "outputs": [
    {
     "name": "stdout",
     "output_type": "stream",
     "text": [
      "\n",
      "\n",
      "\u001b[1m> Entering new SQLDatabaseChain chain...\u001b[0m\n",
      "which movie are similiar to star wars based on rating and genre?\n",
      "SQLQuery:\u001b[32;1m\u001b[1;3m SELECT movie_title, IMDB_rating, movie_genre \n",
      "         FROM movie_titles \n",
      "         WHERE movie_genre LIKE '%sci-fi%' \n",
      "         AND IMDB_rating > 8 \n",
      "         ORDER BY IMDB_rating DESC \n",
      "         LIMIT 5;\n",
      "\u001b[0m\n",
      "SQLResult: \u001b[33;1m\u001b[1;3m[('neuromancer', 9.3, \"['action' 'adventure' 'animation' 'sci-fi']\"), ('star wars', 8.8, \"['action' 'adventure' 'fantasy' 'sci-fi']\"), ('the matrix', 8.7, \"['action' 'adventure' 'adventure' 'adventure' 'sci-fi']\"), ('aliens', 8.5, \"['action' 'sci-fi' 'thriller']\"), ('eternal sunshine of the spotless mind', 8.5, \"['drama' 'romance' 'sci-fi']\")]\u001b[0m\n",
      "Answer:\u001b[32;1m\u001b[1;3m Movies similar to Star Wars based on rating and genre are Neuromancer (9.3), Star Wars (8.8), The Matrix (8.7), Aliens (8.5), and Eternal Sunshine of the Spotless Mind (8.5). Source: SQL query run on the tables provided.\u001b[0m\n",
      "\u001b[1m> Finished chain.\u001b[0m\n"
     ]
    }
   ],
   "source": [
    "new_db_chain = SQLDatabaseChain(llm=llm, database=db, verbose=True, prompt=PROMPT, top_k=5)\n",
    "new_result = new_db_chain.run(\"which movie are similiar to star wars based on rating and genre?\")"
   ]
  },
  {
   "cell_type": "markdown",
   "id": "a1cb8c88-3874-474a-904c-6d9191c16bb0",
   "metadata": {},
   "source": [
    "Now I see that the same query is working and it listed the source also as SQL query which is much better than in other chain (db_chain) where it was failing as it added additional quotes around the SQL query.\n",
    "\n",
    "However, I ran this same query multiple times and it sometimes gave me different results ocassionally (even when I have set temperature to 0). Ocassionally you'd notice that LLMs behave a bit randomly (thats something I have noticed). When we set temperature to 0 (it can be set between 0 to 1) , the randomness is reduced but still sometimes I noticed that. So, its possible you may see different results for same queries which I have run."
   ]
  },
  {
   "cell_type": "code",
   "execution_count": null,
   "id": "997759a8-d80a-4fa3-a5ae-0203d3e9d610",
   "metadata": {},
   "outputs": [],
   "source": []
  }
 ],
 "metadata": {
  "kernelspec": {
   "display_name": "Python 3 (ipykernel)",
   "language": "python",
   "name": "python3"
  },
  "language_info": {
   "codemirror_mode": {
    "name": "ipython",
    "version": 3
   },
   "file_extension": ".py",
   "mimetype": "text/x-python",
   "name": "python",
   "nbconvert_exporter": "python",
   "pygments_lexer": "ipython3",
   "version": "3.10.9"
  }
 },
 "nbformat": 4,
 "nbformat_minor": 5
}
