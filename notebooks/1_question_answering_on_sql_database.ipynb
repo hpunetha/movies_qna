{
 "cells": [
  {
   "cell_type": "markdown",
   "id": "ded6e5cb-8454-4230-a6fa-36ee349be6cd",
   "metadata": {},
   "source": [
    "# Question Answering on SQL Database using OpenAI's Large Language Model (LLM) and langchain"
   ]
  },
  {
   "cell_type": "code",
   "execution_count": 4,
   "id": "ed941ad4-edab-4808-80dc-413f7891a5b2",
   "metadata": {},
   "outputs": [
    {
     "name": "stdout",
     "output_type": "stream",
     "text": [
      "Requirement already satisfied: sqlalchemy in c:\\users\\hpune\\.conda\\envs\\torch_env\\lib\\site-packages (1.4.47)Note: you may need to restart the kernel to use updated packages.\n",
      "\n",
      "Requirement already satisfied: greenlet!=0.4.17 in c:\\users\\hpune\\.conda\\envs\\torch_env\\lib\\site-packages (from sqlalchemy) (2.0.2)\n"
     ]
    }
   ],
   "source": [
    "# %pip install openai\n",
    "# %pip install langchain\n",
    "# %pip install sqlalchemy"
   ]
  },
  {
   "cell_type": "code",
   "execution_count": 5,
   "id": "c299b2b2-dd6b-4e4d-9719-b11464dfd385",
   "metadata": {},
   "outputs": [],
   "source": [
    "import os\n",
    "from sqlalchemy import create_engine\n",
    "from langchain import OpenAI\n",
    "from langchain.chains import ConversationChain"
   ]
  },
  {
   "cell_type": "markdown",
   "id": "310bb830-89a9-4b10-8754-9a6f9e1eaef9",
   "metadata": {},
   "source": [
    "#### Connect to the Database using SQLAlchemy"
   ]
  },
  {
   "cell_type": "code",
   "execution_count": 6,
   "id": "8156558d-e950-496f-bef7-3fe3027fa1b8",
   "metadata": {},
   "outputs": [
    {
     "name": "stdout",
     "output_type": "stream",
     "text": [
      "connection is ok\n",
      "['movie_characters', 'movie_conversations', 'movie_lines', 'movie_script_urls', 'movie_titles']\n"
     ]
    },
    {
     "name": "stderr",
     "output_type": "stream",
     "text": [
      "C:\\Users\\hpune\\AppData\\Local\\Temp\\ipykernel_37420\\1087331391.py:8: SADeprecationWarning: The Engine.table_names() method is deprecated and will be removed in a future release.  Please refer to Inspector.get_table_names(). (deprecated since: 1.4)\n",
      "  print(sqlite_engine.table_names())\n"
     ]
    }
   ],
   "source": [
    "conn_string = (\n",
    "    \"sqlite:///../database/moviesdb.db\"\n",
    "    )\n",
    "\n",
    "sqlite_engine = create_engine(conn_string, echo=False) #echo can be set to true if you want to see intermediate processing messages as well\n",
    "\n",
    "print('connection is ok')\n",
    "print(sqlite_engine.table_names())"
   ]
  },
  {
   "cell_type": "markdown",
   "id": "fbf6d1d7-6ea6-4cba-9aad-58e211f37438",
   "metadata": {},
   "source": [
    "#### Make Sure the below environment variables are set before connecting to OpenAI, otherwise the command will fail\n",
    "OPENAI_API_KEY - OpenAI Api key. Create if from https://beta.openai.com\n",
    "\n",
    "If not present in environment variables, it can also be set in notebook using below line.\n",
    "\n",
    "os.environ[\"OPENAI_API_KEY\"] = key_value"
   ]
  },
  {
   "cell_type": "code",
   "execution_count": 7,
   "id": "3e2b36cf-51c5-4722-90aa-cc5c89904c60",
   "metadata": {},
   "outputs": [],
   "source": [
    "# first initialize the large language model\n",
    "llm = OpenAI(\n",
    "    temperature=0,\n",
    "    model_name=\"text-davinci-003\"\n",
    ")\n"
   ]
  },
  {
   "cell_type": "code",
   "execution_count": 8,
   "id": "97d15dd7-d45a-4926-a45a-78b864a4f34e",
   "metadata": {},
   "outputs": [],
   "source": [
    "# Since we are going to ask questions based on sql database and want answers related to that, hence we are using SQLDatabaseChain from langchain\n",
    "from langchain import OpenAI, SQLDatabase, SQLDatabaseChain"
   ]
  },
  {
   "cell_type": "code",
   "execution_count": 9,
   "id": "0d8244ea-5d9c-4b67-9baa-615b2554341e",
   "metadata": {},
   "outputs": [],
   "source": [
    "# We can set the list of tables which can be included for querying and whose schema can be passed to LLM (davinci model in our case)\n",
    "include_tables = ['movie_characters', 'movie_conversations', 'movie_lines', 'movie_script_urls', 'movie_titles']\n",
    "\n",
    "db = SQLDatabase(engine=sqlite_engine,\n",
    "                 sample_rows_in_table_info=2, # We can set the number of samples to be included from database table to help LLM understand the table data better\n",
    "                 include_tables=include_tables,  \n",
    "                )"
   ]
  },
  {
   "cell_type": "markdown",
   "id": "7565e96f-bfaf-4fa1-bfbe-da5fc3757c18",
   "metadata": {},
   "source": [
    "#### The table info shown below will be passed later to LLM so that it can answer our queries\n"
   ]
  },
  {
   "cell_type": "code",
   "execution_count": 18,
   "id": "c5203940-42e9-4f23-9771-bb9f1cf922a7",
   "metadata": {},
   "outputs": [
    {
     "name": "stdout",
     "output_type": "stream",
     "text": [
      "\n",
      "CREATE TABLE movie_titles (\n",
      "\tmovie_id TEXT, \n",
      "\tmovie_title TEXT, \n",
      "\tyear_of_release TEXT, \n",
      "\t\"IMDB_rating\" FLOAT, \n",
      "\t\"IMDB_number_of_votes\" BIGINT, \n",
      "\tmovie_genre TEXT, \n",
      "\tPRIMARY KEY (movie_id)\n",
      ")\n",
      "\n",
      "/*\n",
      "2 rows from movie_titles table:\n",
      "movie_id\tmovie_title\tyear_of_release\tIMDB_rating\tIMDB_number_of_votes\tmovie_genre\n",
      "m0\t10 things i hate about you\t1999\t6.9\t62847\t['comedy' 'romance']\n",
      "m1\t1492: conquest of paradise\t1992\t6.2\t10421\t['adventure' 'biography' 'drama' 'history']\n",
      "*/\n",
      "\n",
      "\n",
      "CREATE TABLE movie_characters (\n",
      "\tcharacter_id TEXT, \n",
      "\tcharacter_name TEXT, \n",
      "\tmovie_id TEXT, \n",
      "\tmovie_title TEXT, \n",
      "\tgender TEXT, \n",
      "\tposition_in_credits TEXT, \n",
      "\tPRIMARY KEY (character_id), \n",
      "\tFOREIGN KEY(movie_id) REFERENCES movie_titles (movie_id)\n",
      ")\n",
      "\n",
      "/*\n",
      "2 rows from movie_characters table:\n",
      "character_id\tcharacter_name\tmovie_id\tmovie_title\tgender\tposition_in_credits\n",
      "u0\tBIANCA\tm0\t10 things i hate about you\tf\t4\n",
      "u1\tBRUCE\tm0\t10 things i hate about you\t?\t?\n",
      "*/\n",
      "\n",
      "\n",
      "CREATE TABLE movie_script_urls (\n",
      "\tmovie_id TEXT, \n",
      "\tmovie_title TEXT, \n",
      "\tmovie_script_url TEXT, \n",
      "\tPRIMARY KEY (movie_id), \n",
      "\tFOREIGN KEY(movie_id) REFERENCES movie_titles (movie_id)\n",
      ")\n",
      "\n",
      "/*\n",
      "2 rows from movie_script_urls table:\n",
      "movie_id\tmovie_title\tmovie_script_url\n",
      "m0\t10 things i hate about you\thttp://www.dailyscript.com/scripts/10Things.html\n",
      "m1\t1492: conquest of paradise\thttp://www.hundland.org/scripts/1492-ConquestOfParadise.txt\n",
      "*/\n",
      "\n",
      "\n",
      "CREATE TABLE movie_lines (\n",
      "\tmovie_line_id TEXT, \n",
      "\tcharacter_id TEXT, \n",
      "\tmovie_id TEXT, \n",
      "\tcharacter_name TEXT, \n",
      "\tmovie_line_text TEXT, \n",
      "\tPRIMARY KEY (movie_line_id), \n",
      "\tFOREIGN KEY(movie_id) REFERENCES movie_titles (movie_id), \n",
      "\tFOREIGN KEY(character_id) REFERENCES movie_characters (character_id)\n",
      ")\n",
      "\n",
      "/*\n",
      "2 rows from movie_lines table:\n",
      "movie_line_id\tcharacter_id\tmovie_id\tcharacter_name\tmovie_line_text\n",
      "L1045\tu0\tm0\tBIANCA\tThey do not!\n",
      "L1044\tu2\tm0\tCAMERON\tThey do to!\n",
      "*/\n",
      "\n",
      "\n",
      "CREATE TABLE movie_conversations (\n",
      "\tcharacter_id_of_first_character TEXT, \n",
      "\tcharacter_id_of_second_character TEXT, \n",
      "\tmovie_id TEXT, \n",
      "\tmovie_line_id TEXT, \n",
      "\tFOREIGN KEY(movie_id) REFERENCES movie_titles (movie_id), \n",
      "\tFOREIGN KEY(character_id_of_first_character) REFERENCES movie_characters (character_id), \n",
      "\tFOREIGN KEY(character_id_of_second_character) REFERENCES movie_characters (character_id), \n",
      "\tFOREIGN KEY(movie_line_id) REFERENCES movie_lines (movie_line_id)\n",
      ")\n",
      "\n",
      "/*\n",
      "2 rows from movie_conversations table:\n",
      "character_id_of_first_character\tcharacter_id_of_second_character\tmovie_id\tmovie_line_id\n",
      "u0\tu2\tm0\tL194\n",
      "u0\tu2\tm0\tL195\n",
      "*/\n"
     ]
    }
   ],
   "source": [
    "print(db.get_table_info())"
   ]
  },
  {
   "cell_type": "code",
   "execution_count": 19,
   "id": "0c716e3e-ac66-4eca-a682-8a7915604647",
   "metadata": {},
   "outputs": [],
   "source": [
    "# We can declare a SQLDatabaseChain object which can help us in answering queries in natural language\n",
    "db_chain = SQLDatabaseChain(llm=llm, database=db, verbose=True) # if verbose is set to False, it wont show intermediate actions it took.\n"
   ]
  },
  {
   "cell_type": "code",
   "execution_count": 20,
   "id": "ded0660b-27ba-4d93-9951-b3d7ab77e49c",
   "metadata": {},
   "outputs": [
    {
     "name": "stdout",
     "output_type": "stream",
     "text": [
      "\n",
      "\n",
      "\u001b[1m> Entering new SQLDatabaseChain chain...\u001b[0m\n",
      "How many unique movies are there?\n",
      "SQLQuery:\u001b[32;1m\u001b[1;3m SELECT COUNT(DISTINCT movie_title) FROM movie_titles;\u001b[0m\n",
      "SQLResult: \u001b[33;1m\u001b[1;3m[(617,)]\u001b[0m\n",
      "Answer:\u001b[32;1m\u001b[1;3m There are 617 unique movies.\u001b[0m\n",
      "\u001b[1m> Finished chain.\u001b[0m\n"
     ]
    },
    {
     "data": {
      "text/plain": [
       "' There are 617 unique movies.'"
      ]
     },
     "execution_count": 20,
     "metadata": {},
     "output_type": "execute_result"
    }
   ],
   "source": [
    "# Asking a query to the LLM based on our database\n",
    "result = db_chain.run(\"How many unique movies are there?\")\n",
    "result"
   ]
  },
  {
   "cell_type": "markdown",
   "id": "43ecf066-300c-4622-a62e-2ca9e6e29b10",
   "metadata": {},
   "source": [
    "#### As can be seen from the response that LLM was able to generate the correct query and was able to answer correctly"
   ]
  },
  {
   "cell_type": "code",
   "execution_count": 118,
   "id": "71ae1354-f1d6-4be4-839f-3864cc09abda",
   "metadata": {},
   "outputs": [
    {
     "name": "stdout",
     "output_type": "stream",
     "text": [
      "\n",
      "\n",
      "\u001b[1m> Entering new SQLDatabaseChain chain...\u001b[0m\n",
      "which movie has most conversations ? \n",
      "SQLQuery:\u001b[32;1m\u001b[1;3m \"SELECT movie_title, COUNT(*) AS conversations FROM movie_conversations \n",
      "INNER JOIN movie_titles ON movie_conversations.movie_id = movie_titles.movie_id \n",
      "GROUP BY movie_title ORDER BY conversations DESC LIMIT 5\"\u001b[0m\n",
      "ERROR OCCURED: -\n",
      "(sqlite3.OperationalError) near \"\"SELECT movie_title, COUNT(*) AS conversations FROM movie_conversations \n",
      "INNER JOIN movie_titles ON movie_conversations.movie_id = movie_titles.movie_id \n",
      "GROUP BY movie_title ORDER BY conversations DESC LIMIT 5\"\": syntax error\n",
      "[SQL:  \"SELECT movie_title, COUNT(*) AS conversations FROM movie_conversations \n",
      "INNER JOIN movie_titles ON movie_conversations.movie_id = movie_titles.movie_id \n",
      "GROUP BY movie_title ORDER BY conversations DESC LIMIT 5\"]\n",
      "(Background on this error at: https://sqlalche.me/e/14/e3q8)\n"
     ]
    }
   ],
   "source": [
    "try:\n",
    "    result = db_chain.run(\"which movie has most conversations ? \")\n",
    "    result\n",
    "except Exception as e:\n",
    "    print()\n",
    "    print(\"ERROR OCCURED: -\")\n",
    "    print(e)"
   ]
  },
  {
   "cell_type": "markdown",
   "id": "f1368086-1bf6-410f-8d24-8f31c26f2a79",
   "metadata": {},
   "source": [
    "An exception occured in the previous query. For some reason, we see that the LLM generated the intermediate sql query with quotes (*\"SELECT movie_title, COUNT(\\*) AS conversations FROM movie_conversations \n",
    "INNER JOIN movie_titles ON movie_conversations.movie_id = movie_titles.movie_id \n",
    "GROUP BY movie_title ORDER BY conversations DESC LIMIT 5\"*) , and hence it gave a syntax error and the process failed, it should have avoided the surrounded quotes.\n",
    "\n",
    "In the next prompt, we can add specific instructions to not use quotes and we can see that it generated the result correctly once we did that. (We need to engineer the prompt which makes the LLM less error prone).\n",
    "\n",
    "We can also change the default prompt used by langchain but we'll see that later in the notebook\n"
   ]
  },
  {
   "cell_type": "code",
   "execution_count": 31,
   "id": "4a721585-8e33-451f-abd5-de3f84811f24",
   "metadata": {},
   "outputs": [
    {
     "name": "stdout",
     "output_type": "stream",
     "text": [
      "\n",
      "\n",
      "\u001b[1m> Entering new SQLDatabaseChain chain...\u001b[0m\n",
      "which movie has most conversations ? generate sql query without quotes\n",
      "SQLQuery:\u001b[32;1m\u001b[1;3m SELECT movie_title, COUNT(*) AS conversations_count FROM movie_conversations JOIN movie_titles ON movie_conversations.movie_id = movie_titles.movie_id GROUP BY movie_title ORDER BY conversations_count DESC LIMIT 5;\u001b[0m\n",
      "SQLResult: \u001b[33;1m\u001b[1;3m[('casino', 1530), ('chill factor', 1398), ('clerks.', 1286), ('jackie brown', 1214), ('all about eve', 1187)]\u001b[0m\n",
      "Answer:\u001b[32;1m\u001b[1;3m The movie with the most conversations is Casino with 1530 conversations.\u001b[0m\n",
      "\u001b[1m> Finished chain.\u001b[0m\n"
     ]
    },
    {
     "data": {
      "text/plain": [
       "' The movie with the most conversations is Casino with 1530 conversations.'"
      ]
     },
     "execution_count": 31,
     "metadata": {},
     "output_type": "execute_result"
    }
   ],
   "source": [
    "result = db_chain.run(\"which movie has most conversations ? generate sql query without quotes\")\n",
    "result"
   ]
  },
  {
   "cell_type": "markdown",
   "id": "e8cca9ec-5722-43bb-a590-01ea9b23deeb",
   "metadata": {},
   "source": [
    "#### To Obtain intermediate step details as well, we can use below code instead. (In case if we want to access intermediate sql query or results via code)\n"
   ]
  },
  {
   "cell_type": "code",
   "execution_count": 32,
   "id": "74e30f8b-b70b-4a29-a741-df3095ecdab4",
   "metadata": {},
   "outputs": [
    {
     "name": "stdout",
     "output_type": "stream",
     "text": [
      "\n",
      "\n",
      "\u001b[1m> Entering new SQLDatabaseChain chain...\u001b[0m\n",
      "which movie has most conversations ? generate sql query without quotes\n",
      "SQLQuery:"
     ]
    },
    {
     "name": "stderr",
     "output_type": "stream",
     "text": [
      "Retrying langchain.llms.openai.completion_with_retry.<locals>._completion_with_retry in 4.0 seconds as it raised APIConnectionError: Error communicating with OpenAI: ('Connection aborted.', RemoteDisconnected('Remote end closed connection without response')).\n"
     ]
    },
    {
     "name": "stdout",
     "output_type": "stream",
     "text": [
      "\u001b[32;1m\u001b[1;3m SELECT movie_title, COUNT(*) AS conversations_count FROM movie_conversations JOIN movie_titles ON movie_conversations.movie_id = movie_titles.movie_id GROUP BY movie_title ORDER BY conversations_count DESC LIMIT 5;\u001b[0m\n",
      "SQLResult: \u001b[33;1m\u001b[1;3m[('casino', 1530), ('chill factor', 1398), ('clerks.', 1286), ('jackie brown', 1214), ('all about eve', 1187)]\u001b[0m\n",
      "Answer:\u001b[32;1m\u001b[1;3m The movie with the most conversations is Casino with 1530 conversations.\u001b[0m\n",
      "\u001b[1m> Finished chain.\u001b[0m\n"
     ]
    },
    {
     "data": {
      "text/plain": [
       "{'query': 'which movie has most conversations ? generate sql query without quotes',\n",
       " 'result': ' The movie with the most conversations is Casino with 1530 conversations.',\n",
       " 'intermediate_steps': [' SELECT movie_title, COUNT(*) AS conversations_count FROM movie_conversations JOIN movie_titles ON movie_conversations.movie_id = movie_titles.movie_id GROUP BY movie_title ORDER BY conversations_count DESC LIMIT 5;',\n",
       "  \"[('casino', 1530), ('chill factor', 1398), ('clerks.', 1286), ('jackie brown', 1214), ('all about eve', 1187)]\"]}"
      ]
     },
     "execution_count": 32,
     "metadata": {},
     "output_type": "execute_result"
    }
   ],
   "source": [
    "db_chain_interim = SQLDatabaseChain(llm=llm, database=db, verbose=True, return_intermediate_steps=True)\n",
    "result_full = db_chain_interim(\"which movie has most conversations ? generate sql query without quotes\")\n",
    "result_full"
   ]
  },
  {
   "cell_type": "code",
   "execution_count": 35,
   "id": "98a81d11-4f49-4f82-9910-329ded482679",
   "metadata": {},
   "outputs": [
    {
     "name": "stdout",
     "output_type": "stream",
     "text": [
      "Intermediate Query -   SELECT movie_title, COUNT(*) AS conversations_count FROM movie_conversations JOIN movie_titles ON movie_conversations.movie_id = movie_titles.movie_id GROUP BY movie_title ORDER BY conversations_count DESC LIMIT 5;\n",
      "Intermediate Result -  [('casino', 1530), ('chill factor', 1398), ('clerks.', 1286), ('jackie brown', 1214), ('all about eve', 1187)]\n"
     ]
    }
   ],
   "source": [
    "# Obtaining intermediate query and intermediate results\n",
    "intermediate_query= result_full.get(\"intermediate_steps\", [\"\"])[0]\n",
    "intermediate_result= result_full.get(\"intermediate_steps\", [\"\"])[1]\n",
    "print(\"Intermediate Query - \", intermediate_query)\n",
    "print(\"Intermediate Result - \", intermediate_result)"
   ]
  },
  {
   "cell_type": "code",
   "execution_count": 39,
   "id": "b808d788-47fc-4303-ac67-aec589237602",
   "metadata": {},
   "outputs": [
    {
     "data": {
      "text/html": [
       "<div>\n",
       "<style scoped>\n",
       "    .dataframe tbody tr th:only-of-type {\n",
       "        vertical-align: middle;\n",
       "    }\n",
       "\n",
       "    .dataframe tbody tr th {\n",
       "        vertical-align: top;\n",
       "    }\n",
       "\n",
       "    .dataframe thead th {\n",
       "        text-align: right;\n",
       "    }\n",
       "</style>\n",
       "<table border=\"1\" class=\"dataframe\">\n",
       "  <thead>\n",
       "    <tr style=\"text-align: right;\">\n",
       "      <th></th>\n",
       "      <th>movie_title</th>\n",
       "      <th>COUNT(*) AS conversations_count</th>\n",
       "    </tr>\n",
       "  </thead>\n",
       "  <tbody>\n",
       "    <tr>\n",
       "      <th>0</th>\n",
       "      <td>casino</td>\n",
       "      <td>1530</td>\n",
       "    </tr>\n",
       "    <tr>\n",
       "      <th>1</th>\n",
       "      <td>chillfactor</td>\n",
       "      <td>1398</td>\n",
       "    </tr>\n",
       "    <tr>\n",
       "      <th>2</th>\n",
       "      <td>clerks.</td>\n",
       "      <td>1286</td>\n",
       "    </tr>\n",
       "    <tr>\n",
       "      <th>3</th>\n",
       "      <td>jackiebrown</td>\n",
       "      <td>1214</td>\n",
       "    </tr>\n",
       "    <tr>\n",
       "      <th>4</th>\n",
       "      <td>allabouteve</td>\n",
       "      <td>1187</td>\n",
       "    </tr>\n",
       "  </tbody>\n",
       "</table>\n",
       "</div>"
      ],
      "text/plain": [
       "   movie_title  COUNT(*) AS conversations_count\n",
       "0       casino                             1530\n",
       "1  chillfactor                             1398\n",
       "2      clerks.                             1286\n",
       "3  jackiebrown                             1214\n",
       "4  allabouteve                             1187"
      ]
     },
     "execution_count": 39,
     "metadata": {},
     "output_type": "execute_result"
    }
   ],
   "source": [
    "#  Converting intermediate results into pandas dataframe\n",
    "import pandas as pd\n",
    "import re\n",
    "columns = intermediate_query.split('FROM')[0].split('SELECT')[1].strip().split(\",\")\n",
    "\n",
    "data_list = []\n",
    "for substr in intermediate_result.split('),'):\n",
    "    temp_str = re.sub(\"|\\[|\\]|'|\\(|\\)|\\s\", '', substr)\n",
    "    temp_str = list(temp_str.split(','))\n",
    "    data_list.append(temp_str)\n",
    "df = pd.DataFrame(data_list, columns=columns)   \n",
    "df"
   ]
  },
  {
   "cell_type": "code",
   "execution_count": 49,
   "id": "6bddc60a-acfa-4dfe-967b-d424d85d2aa8",
   "metadata": {},
   "outputs": [
    {
     "name": "stdout",
     "output_type": "stream",
     "text": [
      "\n",
      "\n",
      "\u001b[1m> Entering new SQLDatabaseChain chain...\u001b[0m\n",
      "which movie are similiar to star wars based on rating and genre?, generate sql query without quotes\n",
      "SQLQuery:\u001b[32;1m\u001b[1;3m SELECT movie_title, IMDB_rating, movie_genre FROM movie_titles WHERE movie_genre LIKE '%sci-fi%' AND IMDB_rating > 8.0 ORDER BY IMDB_rating DESC LIMIT 5\u001b[0m\n",
      "SQLResult: \u001b[33;1m\u001b[1;3m[('neuromancer', 9.3, \"['action' 'adventure' 'animation' 'sci-fi']\"), ('star wars', 8.8, \"['action' 'adventure' 'fantasy' 'sci-fi']\"), ('the matrix', 8.7, \"['action' 'adventure' 'adventure' 'adventure' 'sci-fi']\"), ('aliens', 8.5, \"['action' 'sci-fi' 'thriller']\"), ('eternal sunshine of the spotless mind', 8.5, \"['drama' 'romance' 'sci-fi']\")]\u001b[0m\n",
      "Answer:\u001b[32;1m\u001b[1;3m The top 5 movies similar to Star Wars based on rating and genre are Neuromancer, Star Wars, The Matrix, Aliens, and Eternal Sunshine of the Spotless Mind.\u001b[0m\n",
      "\u001b[1m> Finished chain.\u001b[0m\n"
     ]
    },
    {
     "data": {
      "text/plain": [
       "' The top 5 movies similar to Star Wars based on rating and genre are Neuromancer, Star Wars, The Matrix, Aliens, and Eternal Sunshine of the Spotless Mind.'"
      ]
     },
     "execution_count": 49,
     "metadata": {},
     "output_type": "execute_result"
    }
   ],
   "source": [
    "result = db_chain.run(\"which movie are similiar to star wars based on rating and genre?, generate sql query without quotes\")\n",
    "result"
   ]
  },
  {
   "cell_type": "markdown",
   "id": "75b40045-84a2-4631-884b-887af186f21c",
   "metadata": {},
   "source": [
    "Above query was also returning error earlier so I had to add additional instruction in prompt to generate sql query without quotes.. Now lets see how we can modify the initial prompt itself and whether it is useful to do it or not in this case."
   ]
  },
  {
   "cell_type": "code",
   "execution_count": 112,
   "id": "0ba06510-b666-46e2-a152-e8a34850efc4",
   "metadata": {},
   "outputs": [],
   "source": [
    "from langchain.prompts.prompt import PromptTemplate\n",
    "\n",
    "_NEW_PROMPT_TEMPLATE = \"\"\"Given an input question, first create a syntactically correct {dialect} query to run, then look at the results of the query and return the answer. \n",
    "Unless the user specifies in his question a specific number of examples he wishes to obtain, always limit your query to at most {top_k} results. \n",
    "You can order the results by a relevant column to return the most interesting examples in the database.\n",
    "Never query for all the columns from a specific table, only look for the few relevant columns given the question.\n",
    "Pay attention to use only the column names that you can see in the schema description. Be careful to not query for columns that do not exist. Also, pay attention to which column is in which table.\n",
    "Make sure only to answer questions based on given database tables and script urls unless specified later explicitly, also provide your sources in result. Generate sql query without quotes.\n",
    "        Use the following format:\n",
    "\n",
    "        Question: \"Question here\"\n",
    "        SQLQuery: \"SQL Query to run\"\n",
    "        SQLResult: \"Result of the SQLQuery\"\n",
    "        Answer: \"Final answer here along with source\"\n",
    "\n",
    "        Only use the tables listed below.\n",
    "        {table_info}\n",
    "\n",
    "        Question: {input}\n",
    "        \"\"\""
   ]
  },
  {
   "cell_type": "markdown",
   "id": "4f306af7-265c-437e-be12-0581d611e1a8",
   "metadata": {},
   "source": [
    "I modified the initial prompt a lot, added instruction to only answer question based on given database tables and also asked to give the sources, also added instruction to generate sql query without quotes. Lets see if it works"
   ]
  },
  {
   "cell_type": "code",
   "execution_count": 113,
   "id": "c833b652-ba9c-40b9-b371-f46032a94cbe",
   "metadata": {},
   "outputs": [],
   "source": [
    "PROMPT = PromptTemplate(\n",
    "            input_variables=[\"input\", \"table_info\", \"dialect\", \"top_k\"], \n",
    "            template=_NEW_PROMPT_TEMPLATE\n",
    "        )\n"
   ]
  },
  {
   "cell_type": "code",
   "execution_count": 114,
   "id": "ba4213db-8a91-4dd9-b881-4605c7e5ec1d",
   "metadata": {},
   "outputs": [
    {
     "name": "stdout",
     "output_type": "stream",
     "text": [
      "\n",
      "\n",
      "\u001b[1m> Entering new SQLDatabaseChain chain...\u001b[0m\n",
      "which movie are similiar to star wars based on rating and genre?\n",
      "SQLQuery:\u001b[32;1m\u001b[1;3m SELECT movie_title, IMDB_rating, movie_genre \n",
      "         FROM movie_titles \n",
      "         WHERE movie_genre LIKE '%sci-fi%' \n",
      "         AND IMDB_rating > 8 \n",
      "         ORDER BY IMDB_rating DESC \n",
      "         LIMIT 5;\n",
      "\u001b[0m\n",
      "SQLResult: \u001b[33;1m\u001b[1;3m[('neuromancer', 9.3, \"['action' 'adventure' 'animation' 'sci-fi']\"), ('star wars', 8.8, \"['action' 'adventure' 'fantasy' 'sci-fi']\"), ('the matrix', 8.7, \"['action' 'adventure' 'adventure' 'adventure' 'sci-fi']\"), ('aliens', 8.5, \"['action' 'sci-fi' 'thriller']\"), ('eternal sunshine of the spotless mind', 8.5, \"['drama' 'romance' 'sci-fi']\")]\u001b[0m\n",
      "Answer:\u001b[32;1m\u001b[1;3m Movies similar to Star Wars based on rating and genre are Neuromancer (9.3), Star Wars (8.8), The Matrix (8.7), Aliens (8.5), and Eternal Sunshine of the Spotless Mind (8.5). Source: SQL query run on the tables provided.\u001b[0m\n",
      "\u001b[1m> Finished chain.\u001b[0m\n"
     ]
    }
   ],
   "source": [
    "new_db_chain = SQLDatabaseChain(llm=llm, database=db, verbose=True, prompt=PROMPT, top_k=5)\n",
    "new_result = new_db_chain.run(\"which movie are similiar to star wars based on rating and genre?\")"
   ]
  },
  {
   "cell_type": "markdown",
   "id": "a1cb8c88-3874-474a-904c-6d9191c16bb0",
   "metadata": {},
   "source": [
    "Now I see that the same query is working and it listed the source also as SQL query which is much better than in other chain (db_chain) where it was failing as it added additional quotes around the SQL query.\n",
    "\n",
    "However, I ran this same query multiple times and it sometimes gave me different results ocassionally (even when I have set temperature to 0). Ocassionally you'd notice that LLMs behave a bit randomly (thats something I have noticed). When we set temperature to 0 (it can be set between 0 to 1) , the randomness is reduced but still sometimes I noticed that. So, its possible you may see different results for same queries which I have run."
   ]
  },
  {
   "cell_type": "code",
   "execution_count": 119,
   "id": "997759a8-d80a-4fa3-a5ae-0203d3e9d610",
   "metadata": {},
   "outputs": [
    {
     "name": "stdout",
     "output_type": "stream",
     "text": [
      "\n",
      "\n",
      "\u001b[1m> Entering new SQLDatabaseChain chain...\u001b[0m\n",
      "what can you tell me about the movie 10 things i hate about you?\n",
      "SQLQuery:"
     ]
    },
    {
     "name": "stderr",
     "output_type": "stream",
     "text": [
      "Retrying langchain.llms.openai.completion_with_retry.<locals>._completion_with_retry in 4.0 seconds as it raised APIConnectionError: Error communicating with OpenAI: ('Connection aborted.', RemoteDisconnected('Remote end closed connection without response')).\n"
     ]
    },
    {
     "name": "stdout",
     "output_type": "stream",
     "text": [
      "\u001b[32;1m\u001b[1;3m\n",
      "SELECT movie_title, year_of_release, IMDB_rating, IMDB_number_of_votes, movie_genre \n",
      "FROM movie_titles \n",
      "WHERE movie_title = '10 things i hate about you' \n",
      "LIMIT 5;\n",
      "\u001b[0m\n",
      "SQLResult: \u001b[33;1m\u001b[1;3m[('10 things i hate about you', '1999', 6.9, 62847, \"['comedy' 'romance']\")]\u001b[0m\n",
      "Answer:\u001b[32;1m\u001b[1;3m\n",
      "The movie 10 things i hate about you was released in 1999, has an IMDB rating of 6.9 and 62847 IMDB votes. It is a comedy and romance movie. Source: movie_titles table.\u001b[0m\n",
      "\u001b[1m> Finished chain.\u001b[0m\n"
     ]
    }
   ],
   "source": [
    "new_result = new_db_chain.run(\"what can you tell me about the movie 10 things i hate about you?\")"
   ]
  },
  {
   "cell_type": "markdown",
   "id": "cbceca30-f2ab-4d0d-b29b-2f2b423612f7",
   "metadata": {},
   "source": [
    "Again, It seems to have performed well."
   ]
  },
  {
   "cell_type": "markdown",
   "id": "e2f38450-6de4-4e0b-849c-619a1bcea9c7",
   "metadata": {},
   "source": [
    "#### Using Agents for querying database tables inplace of chains."
   ]
  },
  {
   "cell_type": "code",
   "execution_count": 15,
   "id": "f6e6a8ad-a7e5-4d69-92aa-c92c2947f1e0",
   "metadata": {},
   "outputs": [
    {
     "name": "stdout",
     "output_type": "stream",
     "text": [
      "\n",
      "\n",
      "\u001b[1m> Entering new AgentExecutor chain...\u001b[0m\n"
     ]
    },
    {
     "name": "stderr",
     "output_type": "stream",
     "text": [
      "Retrying langchain.llms.openai.completion_with_retry.<locals>._completion_with_retry in 4.0 seconds as it raised APIConnectionError: Error communicating with OpenAI.\n"
     ]
    },
    {
     "name": "stdout",
     "output_type": "stream",
     "text": [
      "\u001b[32;1m\u001b[1;3mAction: list_tables_sql_db\n",
      "Action Input: \"\"\u001b[0m\n",
      "Observation: \u001b[38;5;200m\u001b[1;3mmovie_conversations, movie_titles, movie_characters, movie_script_urls, movie_lines\u001b[0m\n",
      "Thought:\u001b[32;1m\u001b[1;3m I now know the tables in the database\n",
      "Final Answer: The tables in the database are movie_conversations, movie_titles, movie_characters, movie_script_urls, and movie_lines.\u001b[0m\n",
      "\n",
      "\u001b[1m> Finished chain.\u001b[0m\n"
     ]
    },
    {
     "data": {
      "text/plain": [
       "'The tables in the database are movie_conversations, movie_titles, movie_characters, movie_script_urls, and movie_lines.'"
      ]
     },
     "execution_count": 15,
     "metadata": {},
     "output_type": "execute_result"
    }
   ],
   "source": [
    "import os\n",
    "from langchain.agents import create_sql_agent\n",
    "from langchain.agents.agent_toolkits import SQLDatabaseToolkit\n",
    "from langchain.agents import AgentExecutor\n",
    "\n",
    "\n",
    "toolkit = SQLDatabaseToolkit(db=db)\n",
    "\n",
    "agent_executor = create_sql_agent(\n",
    "    llm=llm,\n",
    "    toolkit=toolkit,\n",
    "    verbose=True\n",
    ")\n",
    "\n",
    "agent_executor.run(\"List the tables in the database\")"
   ]
  },
  {
   "cell_type": "code",
   "execution_count": 11,
   "id": "9c5c6061-0ea4-43f4-8100-e93b967e0683",
   "metadata": {
    "tags": []
   },
   "outputs": [
    {
     "name": "stdout",
     "output_type": "stream",
     "text": [
      "\n",
      "\n",
      "\u001b[1m> Entering new AgentExecutor chain...\u001b[0m\n",
      "\u001b[32;1m\u001b[1;3mAction: list_tables_sql_db\n",
      "Action Input: \"\"\u001b[0m\n",
      "Observation: \u001b[38;5;200m\u001b[1;3mmovie_conversations, movie_titles, movie_characters, movie_script_urls, movie_lines\u001b[0m\n",
      "Thought:\u001b[32;1m\u001b[1;3m I should look at the schema of the movie_conversations table to see what columns I can query.\n",
      "Action: schema_sql_db\n",
      "Action Input: \"movie_conversations\"\u001b[0m\n",
      "Observation: \u001b[33;1m\u001b[1;3m\n",
      "CREATE TABLE movie_conversations (\n",
      "\tcharacter_id_of_first_character TEXT, \n",
      "\tcharacter_id_of_second_character TEXT, \n",
      "\tmovie_id TEXT, \n",
      "\tmovie_line_id TEXT, \n",
      "\tFOREIGN KEY(movie_id) REFERENCES movie_titles (movie_id), \n",
      "\tFOREIGN KEY(character_id_of_first_character) REFERENCES movie_characters (character_id), \n",
      "\tFOREIGN KEY(character_id_of_second_character) REFERENCES movie_characters (character_id), \n",
      "\tFOREIGN KEY(movie_line_id) REFERENCES movie_lines (movie_line_id)\n",
      ")\n",
      "\n",
      "/*\n",
      "2 rows from movie_conversations table:\n",
      "character_id_of_first_character\tcharacter_id_of_second_character\tmovie_id\tmovie_line_id\n",
      "u0\tu2\tm0\tL194\n",
      "u0\tu2\tm0\tL195\n",
      "*/\u001b[0m\n",
      "Thought:\u001b[32;1m\u001b[1;3m I should query the movie_conversations table to get the movie with the most conversations.\n",
      "Action: query_sql_db\n",
      "Action Input: SELECT movie_id, COUNT(*) AS num_conversations FROM movie_conversations GROUP BY movie_id ORDER BY num_conversations DESC LIMIT 10\u001b[0m\n",
      "Observation: \u001b[36;1m\u001b[1;3m[('m289', 1530), ('m295', 1398), ('m299', 1286), ('m105', 1214), ('m238', 1187), ('m513', 1164), ('m82', 1160), ('m90', 1149), ('m428', 1114), ('m435', 1094)]\u001b[0m\n",
      "Thought:\u001b[32;1m\u001b[1;3m I now know the movie with the most conversations.\n",
      "Final Answer: The movie with the most conversations is m289 with 1530 conversations.\u001b[0m\n",
      "\n",
      "\u001b[1m> Finished chain.\u001b[0m\n"
     ]
    },
    {
     "data": {
      "text/plain": [
       "'The movie with the most conversations is m289 with 1530 conversations.'"
      ]
     },
     "execution_count": 11,
     "metadata": {},
     "output_type": "execute_result"
    }
   ],
   "source": [
    "# Now running the same query using sql agent which earlier failed for dbchain without modifying the prompt.\n",
    "agent_executor.run(\"which movie has most conversations ? \")"
   ]
  },
  {
   "cell_type": "code",
   "execution_count": 14,
   "id": "25dd8063-0bfb-4b80-9f1c-0af61f1515b3",
   "metadata": {
    "tags": []
   },
   "outputs": [
    {
     "name": "stdout",
     "output_type": "stream",
     "text": [
      "\n",
      "\n",
      "\u001b[1m> Entering new AgentExecutor chain...\u001b[0m\n"
     ]
    },
    {
     "name": "stderr",
     "output_type": "stream",
     "text": [
      "Retrying langchain.llms.openai.completion_with_retry.<locals>._completion_with_retry in 4.0 seconds as it raised APIConnectionError: Error communicating with OpenAI.\n"
     ]
    },
    {
     "name": "stdout",
     "output_type": "stream",
     "text": [
      "\u001b[32;1m\u001b[1;3mAction: list_tables_sql_db\n",
      "Action Input: \"\"\u001b[0m\n",
      "Observation: \u001b[38;5;200m\u001b[1;3mmovie_conversations, movie_titles, movie_characters, movie_script_urls, movie_lines\u001b[0m\n",
      "Thought:\u001b[32;1m\u001b[1;3m I should check the schema of the movie_conversations table to see what columns I can query.\n",
      "Action: schema_sql_db\n",
      "Action Input: \"movie_conversations\"\u001b[0m\n",
      "Observation: \u001b[33;1m\u001b[1;3m\n",
      "CREATE TABLE movie_conversations (\n",
      "\tcharacter_id_of_first_character TEXT, \n",
      "\tcharacter_id_of_second_character TEXT, \n",
      "\tmovie_id TEXT, \n",
      "\tmovie_line_id TEXT, \n",
      "\tFOREIGN KEY(movie_id) REFERENCES movie_titles (movie_id), \n",
      "\tFOREIGN KEY(character_id_of_first_character) REFERENCES movie_characters (character_id), \n",
      "\tFOREIGN KEY(character_id_of_second_character) REFERENCES movie_characters (character_id), \n",
      "\tFOREIGN KEY(movie_line_id) REFERENCES movie_lines (movie_line_id)\n",
      ")\n",
      "\n",
      "/*\n",
      "2 rows from movie_conversations table:\n",
      "character_id_of_first_character\tcharacter_id_of_second_character\tmovie_id\tmovie_line_id\n",
      "u0\tu2\tm0\tL194\n",
      "u0\tu2\tm0\tL195\n",
      "*/\u001b[0m\n",
      "Thought:\u001b[32;1m\u001b[1;3m I can query the movie_conversations table to get the movie_id and count the number of conversations for each movie.\n",
      "Action: query_sql_db\n",
      "Action Input: SELECT movie_id, COUNT(*) AS conversation_count FROM movie_conversations GROUP BY movie_id ORDER BY conversation_count DESC LIMIT 4\u001b[0m\n",
      "Observation: \u001b[36;1m\u001b[1;3m[('m289', 1530), ('m295', 1398), ('m299', 1286), ('m105', 1214)]\u001b[0m\n",
      "Thought:\u001b[32;1m\u001b[1;3m I can use the movie_id to get the movie titles from the movie_titles table.\n",
      "Action: query_sql_db\n",
      "Action Input: SELECT movie_id, movie_title FROM movie_titles WHERE movie_id IN ('m289', 'm295', 'm299', 'm105')\u001b[0m\n",
      "Observation: \u001b[36;1m\u001b[1;3m[('m105', 'jackie brown'), ('m289', 'casino'), ('m295', 'chill factor'), ('m299', 'clerks.')]\u001b[0m\n",
      "Thought:\u001b[32;1m\u001b[1;3m I now know the final answer.\n",
      "Final Answer: The top 4 movies with the most conversations are 'Jackie Brown' (1214 conversations), 'Casino' (1530 conversations), 'Chill Factor' (1398 conversations), and 'Clerks.' (1286 conversations).\u001b[0m\n",
      "\n",
      "\u001b[1m> Finished chain.\u001b[0m\n"
     ]
    },
    {
     "data": {
      "text/plain": [
       "\"The top 4 movies with the most conversations are 'Jackie Brown' (1214 conversations), 'Casino' (1530 conversations), 'Chill Factor' (1398 conversations), and 'Clerks.' (1286 conversations).\""
      ]
     },
     "execution_count": 14,
     "metadata": {},
     "output_type": "execute_result"
    }
   ],
   "source": [
    "# It worked but gave us slightly different answer like movie ids instead of title..\n",
    "agent_executor.run(\"what are the names of top 4 movies which have most conversations along with their counts ? \")"
   ]
  },
  {
   "cell_type": "code",
   "execution_count": null,
   "id": "eea6b6a1-764b-4c19-89cf-0c0bd07cb29f",
   "metadata": {},
   "outputs": [],
   "source": []
  }
 ],
 "metadata": {
  "kernelspec": {
   "display_name": "Python 3 (ipykernel)",
   "language": "python",
   "name": "python3"
  },
  "language_info": {
   "codemirror_mode": {
    "name": "ipython",
    "version": 3
   },
   "file_extension": ".py",
   "mimetype": "text/x-python",
   "name": "python",
   "nbconvert_exporter": "python",
   "pygments_lexer": "ipython3",
   "version": "3.9.16"
  }
 },
 "nbformat": 4,
 "nbformat_minor": 5
}
