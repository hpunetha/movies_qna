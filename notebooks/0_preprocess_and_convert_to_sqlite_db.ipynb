{
 "cells": [
  {
   "cell_type": "markdown",
   "id": "45ac2777-1b43-459d-a253-5d720e66ac53",
   "metadata": {},
   "source": [
    "## Preprocessing and conversion of data into sql database tables (SQLite database is used for simplicity)"
   ]
  },
  {
   "cell_type": "markdown",
   "id": "f617b842-7e30-423b-b4c1-6d258c3b7773",
   "metadata": {},
   "source": [
    "Dataset downloaded from - https://www.kaggle.com/datasets/Cornell-University/movie-dialog-corpus\n",
    "\n",
    "The data was downloaded from above link and then extracted to movie-dialog-corpus directory\n",
    "\n",
    "Below preprocessing steps add all of the related files as tables in an sqlite database"
   ]
  },
  {
   "cell_type": "code",
   "execution_count": 7,
   "id": "de5a1480-4b63-425d-a1cf-bd325a2484ce",
   "metadata": {},
   "outputs": [],
   "source": [
    "from sqlalchemy import create_engine, MetaData, Table, select\n",
    "conn_string = (\n",
    "    \"sqlite:///../database/moviesdb.db\"\n",
    "    )\n",
    "\n",
    "sqlite_engine = create_engine(conn_string, echo=True)"
   ]
  },
  {
   "cell_type": "code",
   "execution_count": 8,
   "id": "ca4ecfb6-3e61-4525-b38a-b55d31ab3057",
   "metadata": {},
   "outputs": [],
   "source": [
    "import traceback\n",
    "import pandas as pd\n"
   ]
  },
  {
   "cell_type": "code",
   "execution_count": 9,
   "id": "f9a8c909-98a5-4d60-a5a9-d6d1312f0280",
   "metadata": {},
   "outputs": [
    {
     "data": {
      "text/html": [
       "<div>\n",
       "<style scoped>\n",
       "    .dataframe tbody tr th:only-of-type {\n",
       "        vertical-align: middle;\n",
       "    }\n",
       "\n",
       "    .dataframe tbody tr th {\n",
       "        vertical-align: top;\n",
       "    }\n",
       "\n",
       "    .dataframe thead th {\n",
       "        text-align: right;\n",
       "    }\n",
       "</style>\n",
       "<table border=\"1\" class=\"dataframe\">\n",
       "  <thead>\n",
       "    <tr style=\"text-align: right;\">\n",
       "      <th></th>\n",
       "      <th>movie_id</th>\n",
       "      <th>movie_title</th>\n",
       "      <th>year_of_release</th>\n",
       "      <th>IMDB_rating</th>\n",
       "      <th>IMDB_number_of_votes</th>\n",
       "      <th>movie_genre</th>\n",
       "    </tr>\n",
       "  </thead>\n",
       "  <tbody>\n",
       "    <tr>\n",
       "      <th>0</th>\n",
       "      <td>m0</td>\n",
       "      <td>10 things i hate about you</td>\n",
       "      <td>1999</td>\n",
       "      <td>6.9</td>\n",
       "      <td>62847</td>\n",
       "      <td>['comedy' 'romance']</td>\n",
       "    </tr>\n",
       "    <tr>\n",
       "      <th>1</th>\n",
       "      <td>m1</td>\n",
       "      <td>1492: conquest of paradise</td>\n",
       "      <td>1992</td>\n",
       "      <td>6.2</td>\n",
       "      <td>10421</td>\n",
       "      <td>['adventure' 'biography' 'drama' 'history']</td>\n",
       "    </tr>\n",
       "  </tbody>\n",
       "</table>\n",
       "</div>"
      ],
      "text/plain": [
       "  movie_id                 movie_title year_of_release  IMDB_rating  \\\n",
       "0       m0  10 things i hate about you            1999          6.9   \n",
       "1       m1  1492: conquest of paradise            1992          6.2   \n",
       "\n",
       "   IMDB_number_of_votes                                  movie_genre  \n",
       "0                 62847                         ['comedy' 'romance']  \n",
       "1                 10421  ['adventure' 'biography' 'drama' 'history']  "
      ]
     },
     "execution_count": 9,
     "metadata": {},
     "output_type": "execute_result"
    }
   ],
   "source": [
    "# Manually fixed the line number 450, movie_id  m449\n",
    "movie_title_df_columns = {\n",
    "    0:'movie_id', \n",
    "    1:'movie_title',                           \n",
    "    2:'year_of_release',  \n",
    "    3:'IMDB_rating',\n",
    "    4:'IMDB_number_of_votes',\n",
    "    5:'movie_genre',\n",
    "}\n",
    "\n",
    "movie_titles_df = pd.read_csv('../movie-dialog-corpus/movie_titles_metadata.tsv', sep='\\t', header=None)\n",
    "movie_titles_df.rename(columns= movie_title_df_columns, inplace=True)\n",
    "movie_titles_df.head(2)"
   ]
  },
  {
   "cell_type": "code",
   "execution_count": 10,
   "id": "355d8fdb-b7e7-43c0-8c20-8280d4e408e5",
   "metadata": {},
   "outputs": [],
   "source": [
    "def convert_tab_to_space_df(x):\n",
    "    try:\n",
    "        return x.replace('\\t', ' ')\n",
    "    except:\n",
    "        return x"
   ]
  },
  {
   "cell_type": "code",
   "execution_count": 11,
   "id": "ca211b35-fdfe-41d2-b0b2-087270f9b5bc",
   "metadata": {},
   "outputs": [
    {
     "data": {
      "text/html": [
       "<div>\n",
       "<style scoped>\n",
       "    .dataframe tbody tr th:only-of-type {\n",
       "        vertical-align: middle;\n",
       "    }\n",
       "\n",
       "    .dataframe tbody tr th {\n",
       "        vertical-align: top;\n",
       "    }\n",
       "\n",
       "    .dataframe thead th {\n",
       "        text-align: right;\n",
       "    }\n",
       "</style>\n",
       "<table border=\"1\" class=\"dataframe\">\n",
       "  <thead>\n",
       "    <tr style=\"text-align: right;\">\n",
       "      <th></th>\n",
       "      <th>character_id</th>\n",
       "      <th>character_name</th>\n",
       "      <th>movie_id</th>\n",
       "      <th>movie_title</th>\n",
       "      <th>gender</th>\n",
       "      <th>position_in_credits</th>\n",
       "    </tr>\n",
       "  </thead>\n",
       "  <tbody>\n",
       "    <tr>\n",
       "      <th>0</th>\n",
       "      <td>u0</td>\n",
       "      <td>BIANCA</td>\n",
       "      <td>m0</td>\n",
       "      <td>10 things i hate about you</td>\n",
       "      <td>f</td>\n",
       "      <td>4</td>\n",
       "    </tr>\n",
       "    <tr>\n",
       "      <th>1</th>\n",
       "      <td>u1</td>\n",
       "      <td>BRUCE</td>\n",
       "      <td>m0</td>\n",
       "      <td>10 things i hate about you</td>\n",
       "      <td>?</td>\n",
       "      <td>?</td>\n",
       "    </tr>\n",
       "  </tbody>\n",
       "</table>\n",
       "</div>"
      ],
      "text/plain": [
       "  character_id character_name movie_id                 movie_title gender  \\\n",
       "0           u0         BIANCA       m0  10 things i hate about you      f   \n",
       "1           u1          BRUCE       m0  10 things i hate about you      ?   \n",
       "\n",
       "  position_in_credits  \n",
       "0                   4  \n",
       "1                   ?  "
      ]
     },
     "execution_count": 11,
     "metadata": {},
     "output_type": "execute_result"
    }
   ],
   "source": [
    "movie_characters_df_columns = {\n",
    "    0:'character_id', \n",
    "    1:'character_name',                           \n",
    "    2:'movie_id',  \n",
    "    3:'movie_title',\n",
    "    4:'gender', # \"?\" for unlabeled cases\n",
    "    5:'position_in_credits',\n",
    "}\n",
    "\n",
    "movie_characters_path = '../movie-dialog-corpus/movie_characters_metadata.tsv'\n",
    "# movie_characters_df = pd.read_csv(movie_characters_path, sep='\\t', header=None, error_bad_lines=False)\n",
    "# movie_characters_df.rename(columns= movie_characters_df_columns, inplace=True)\n",
    "# movie_characters_df.head(2)\n",
    "\n",
    "line_list = []\n",
    "\n",
    "\n",
    "with open(movie_characters_path, 'r', encoding='utf-8', newline='\\n') as text:\n",
    "    lines = text.read()\n",
    "    ## Many characters were prsent which were causing lines to be skipped when reading directly from pandas, skipping those below\n",
    "    replace_list = [u'\\x85', u'\\x85', u'\\x82', u'\\x8a', u'\\x8c', u'\\x91', \n",
    "                    u'\\x92', u'\\x93', u'\\x94', u'\\x96', u'\\x97', u'\\xad']\n",
    "    \n",
    "    for char in replace_list:\n",
    "        lines = lines.replace(char, '')\n",
    "    \n",
    "    lines = lines.splitlines()\n",
    "    for line in lines:\n",
    "        line = line.lstrip('\"').rstrip('\"')\n",
    "        line = line.split('\\t', maxsplit=5)\n",
    "        line_list.append(line)\n",
    "\n",
    "movie_characters_df = pd.DataFrame(line_list, columns=movie_characters_df_columns.values())\n",
    "movie_characters_df.head(2)"
   ]
  },
  {
   "cell_type": "code",
   "execution_count": 12,
   "id": "a4cc8803-8837-4a31-9318-3321e8b9ba7d",
   "metadata": {},
   "outputs": [
    {
     "name": "stdout",
     "output_type": "stream",
     "text": [
      "(304713, 5)\n"
     ]
    },
    {
     "data": {
      "text/html": [
       "<div>\n",
       "<style scoped>\n",
       "    .dataframe tbody tr th:only-of-type {\n",
       "        vertical-align: middle;\n",
       "    }\n",
       "\n",
       "    .dataframe tbody tr th {\n",
       "        vertical-align: top;\n",
       "    }\n",
       "\n",
       "    .dataframe thead th {\n",
       "        text-align: right;\n",
       "    }\n",
       "</style>\n",
       "<table border=\"1\" class=\"dataframe\">\n",
       "  <thead>\n",
       "    <tr style=\"text-align: right;\">\n",
       "      <th></th>\n",
       "      <th>movie_line_id</th>\n",
       "      <th>character_id</th>\n",
       "      <th>movie_id</th>\n",
       "      <th>character_name</th>\n",
       "      <th>movie_line_text</th>\n",
       "    </tr>\n",
       "  </thead>\n",
       "  <tbody>\n",
       "    <tr>\n",
       "      <th>0</th>\n",
       "      <td>L1045</td>\n",
       "      <td>u0</td>\n",
       "      <td>m0</td>\n",
       "      <td>BIANCA</td>\n",
       "      <td>They do not!</td>\n",
       "    </tr>\n",
       "    <tr>\n",
       "      <th>1</th>\n",
       "      <td>L1044</td>\n",
       "      <td>u2</td>\n",
       "      <td>m0</td>\n",
       "      <td>CAMERON</td>\n",
       "      <td>They do to!</td>\n",
       "    </tr>\n",
       "  </tbody>\n",
       "</table>\n",
       "</div>"
      ],
      "text/plain": [
       "  movie_line_id character_id movie_id character_name movie_line_text\n",
       "0         L1045           u0       m0         BIANCA    They do not!\n",
       "1         L1044           u2       m0        CAMERON     They do to!"
      ]
     },
     "execution_count": 12,
     "metadata": {},
     "output_type": "execute_result"
    }
   ],
   "source": [
    "movie_lines_df_columns = {\n",
    "    0:'movie_line_id', \n",
    "    1:'character_id', #(who uttered this phrase)                      \n",
    "    2:'movie_id',  \n",
    "    3:'character_name',\n",
    "    4:'movie_line_text'\n",
    "}\n",
    "movie_lines_path = \"../movie-dialog-corpus/movie_lines.tsv\"\n",
    "# movie_lines_df = pd.read_csv(movie_lines_path, sep='\\t', header=None, encoding='utf-8-sig', error_bad_lines=False)\n",
    "# movie_lines_df.rename(columns= movie_lines_df_columns, inplace=True)\n",
    "\n",
    "\n",
    "# There were many lines getting skipped with above approach (commented lines) for movie_lines.tsv due to some additional characters in the file, hence used a different approach\n",
    "\n",
    "line_list = []\n",
    "\n",
    "\n",
    "with open(movie_lines_path, 'r', encoding='utf-8', newline='\\n') as text:\n",
    "    lines = text.read()\n",
    "#     Many characters were prsent which were causing lines to be skipped when reading directly from pandas, skipping those below\n",
    "    replace_list = [u'\\x85', u'\\x85', u'\\x82', u'\\x8a', u'\\x8c', u'\\x91', \n",
    "                    u'\\x92', u'\\x93', u'\\x94', u'\\x96', u'\\x97', u'\\xad']\n",
    "    \n",
    "    for char in replace_list:\n",
    "        lines = lines.replace(char, '')\n",
    "    \n",
    "    lines = lines.splitlines()\n",
    "    for line in lines:\n",
    "        line = line.lstrip('\"').rstrip('\"')\n",
    "        line = line.split('\\t', maxsplit=4)\n",
    "        line_list.append(line)\n",
    "\n",
    "movie_lines_df = pd.DataFrame(line_list, columns=movie_lines_df_columns.values())\n",
    "movie_lines_df['movie_line_text'] = movie_lines_df['movie_line_text'].map(convert_tab_to_space_df)\n",
    "\n",
    "print(movie_lines_df.shape)\n",
    "movie_lines_df.head(2)"
   ]
  },
  {
   "cell_type": "code",
   "execution_count": 13,
   "id": "2b5dbf61-b003-4fd6-9c27-5f872d539e5d",
   "metadata": {},
   "outputs": [
    {
     "name": "stdout",
     "output_type": "stream",
     "text": [
      "Number of rows 83097\n"
     ]
    },
    {
     "data": {
      "text/html": [
       "<div>\n",
       "<style scoped>\n",
       "    .dataframe tbody tr th:only-of-type {\n",
       "        vertical-align: middle;\n",
       "    }\n",
       "\n",
       "    .dataframe tbody tr th {\n",
       "        vertical-align: top;\n",
       "    }\n",
       "\n",
       "    .dataframe thead th {\n",
       "        text-align: right;\n",
       "    }\n",
       "</style>\n",
       "<table border=\"1\" class=\"dataframe\">\n",
       "  <thead>\n",
       "    <tr style=\"text-align: right;\">\n",
       "      <th></th>\n",
       "      <th>character_id_of_first_character</th>\n",
       "      <th>character_id_of_second_character</th>\n",
       "      <th>movie_id</th>\n",
       "      <th>list_of_line_id</th>\n",
       "    </tr>\n",
       "  </thead>\n",
       "  <tbody>\n",
       "    <tr>\n",
       "      <th>0</th>\n",
       "      <td>u0</td>\n",
       "      <td>u2</td>\n",
       "      <td>m0</td>\n",
       "      <td>['L194' 'L195' 'L196' 'L197']</td>\n",
       "    </tr>\n",
       "    <tr>\n",
       "      <th>1</th>\n",
       "      <td>u0</td>\n",
       "      <td>u2</td>\n",
       "      <td>m0</td>\n",
       "      <td>['L198' 'L199']</td>\n",
       "    </tr>\n",
       "  </tbody>\n",
       "</table>\n",
       "</div>"
      ],
      "text/plain": [
       "  character_id_of_first_character character_id_of_second_character movie_id  \\\n",
       "0                              u0                               u2       m0   \n",
       "1                              u0                               u2       m0   \n",
       "\n",
       "                 list_of_line_id  \n",
       "0  ['L194' 'L195' 'L196' 'L197']  \n",
       "1                ['L198' 'L199']  "
      ]
     },
     "execution_count": 13,
     "metadata": {},
     "output_type": "execute_result"
    }
   ],
   "source": [
    "#  Fixed the lines with errors manually \n",
    "movie_conversations_df_columns = {\n",
    "    0:'character_id_of_first_character',  # first character involved in the conversation\n",
    "    1:'character_id_of_second_character',     \n",
    "    2:'movie_id',  \n",
    "    3:'list_of_line_id',\n",
    "}\n",
    "\n",
    "movie_conversations_df = pd.read_csv('../movie-dialog-corpus/movie_conversations.tsv', sep='\\t', header=None)\n",
    "movie_conversations_df.rename(columns= movie_conversations_df_columns, inplace=True)\n",
    "print(\"Number of rows\", movie_conversations_df.shape[0])\n",
    "movie_conversations_df.head(2)"
   ]
  },
  {
   "cell_type": "markdown",
   "id": "75a23e28-e353-4ce6-8611-651e5e6cbb84",
   "metadata": {},
   "source": [
    "#### Splitting the column list_of_line_id in such a way that each row has single line id and other fields are repeated (used for maintaining atomicity\n"
   ]
  },
  {
   "cell_type": "code",
   "execution_count": 14,
   "id": "3b013221-6ce3-44d0-858e-e23f4ef55249",
   "metadata": {},
   "outputs": [
    {
     "name": "stderr",
     "output_type": "stream",
     "text": [
      "C:\\Users\\hpune\\AppData\\Local\\Temp\\ipykernel_40948\\3733146263.py:2: FutureWarning: The default value of regex will change from True to False in a future version. In addition, single character regular expressions will *not* be treated as literal strings when regex=True.\n",
      "  movie_conversations_df['list_of_line_id']= movie_conversations_df['list_of_line_id'].str.replace(\"]\",\"\").str.replace(\"[\",\"\")\n"
     ]
    },
    {
     "name": "stdout",
     "output_type": "stream",
     "text": [
      "Number of rows 304713\n"
     ]
    },
    {
     "data": {
      "text/html": [
       "<div>\n",
       "<style scoped>\n",
       "    .dataframe tbody tr th:only-of-type {\n",
       "        vertical-align: middle;\n",
       "    }\n",
       "\n",
       "    .dataframe tbody tr th {\n",
       "        vertical-align: top;\n",
       "    }\n",
       "\n",
       "    .dataframe thead th {\n",
       "        text-align: right;\n",
       "    }\n",
       "</style>\n",
       "<table border=\"1\" class=\"dataframe\">\n",
       "  <thead>\n",
       "    <tr style=\"text-align: right;\">\n",
       "      <th></th>\n",
       "      <th>character_id_of_first_character</th>\n",
       "      <th>character_id_of_second_character</th>\n",
       "      <th>movie_id</th>\n",
       "      <th>movie_line_id</th>\n",
       "    </tr>\n",
       "  </thead>\n",
       "  <tbody>\n",
       "    <tr>\n",
       "      <th>0</th>\n",
       "      <td>u0</td>\n",
       "      <td>u2</td>\n",
       "      <td>m0</td>\n",
       "      <td>L194</td>\n",
       "    </tr>\n",
       "    <tr>\n",
       "      <th>1</th>\n",
       "      <td>u0</td>\n",
       "      <td>u2</td>\n",
       "      <td>m0</td>\n",
       "      <td>L195</td>\n",
       "    </tr>\n",
       "  </tbody>\n",
       "</table>\n",
       "</div>"
      ],
      "text/plain": [
       "  character_id_of_first_character character_id_of_second_character movie_id  \\\n",
       "0                              u0                               u2       m0   \n",
       "1                              u0                               u2       m0   \n",
       "\n",
       "  movie_line_id  \n",
       "0          L194  \n",
       "1          L195  "
      ]
     },
     "execution_count": 14,
     "metadata": {},
     "output_type": "execute_result"
    }
   ],
   "source": [
    "from itertools import chain\n",
    "movie_conversations_df['list_of_line_id']= movie_conversations_df['list_of_line_id'].str.replace(\"]\",\"\").str.replace(\"[\",\"\")\n",
    "df = movie_conversations_df\n",
    "cols = df.columns.difference(['list_of_line_id'])\n",
    "movie_line_id = df['list_of_line_id'].str.split(' ')\n",
    "\n",
    "df =  (df.loc[df.index.repeat(movie_line_id.str.len()), cols]\n",
    "         .assign(movie_line_id=list(chain.from_iterable(movie_line_id.tolist()))))\n",
    "df['movie_line_id'] = df['movie_line_id'].str.replace(\"'\",\"\")\n",
    "movie_conversations_df = df.reset_index(drop=True)\n",
    "print(\"Number of rows\", movie_conversations_df.shape[0])\n",
    "movie_conversations_df.head(2)"
   ]
  },
  {
   "cell_type": "code",
   "execution_count": 16,
   "id": "0a0adb3d-5d5c-4c42-b8fd-250e5cea6e3b",
   "metadata": {},
   "outputs": [
    {
     "data": {
      "text/html": [
       "<div>\n",
       "<style scoped>\n",
       "    .dataframe tbody tr th:only-of-type {\n",
       "        vertical-align: middle;\n",
       "    }\n",
       "\n",
       "    .dataframe tbody tr th {\n",
       "        vertical-align: top;\n",
       "    }\n",
       "\n",
       "    .dataframe thead th {\n",
       "        text-align: right;\n",
       "    }\n",
       "</style>\n",
       "<table border=\"1\" class=\"dataframe\">\n",
       "  <thead>\n",
       "    <tr style=\"text-align: right;\">\n",
       "      <th></th>\n",
       "      <th>movie_id</th>\n",
       "      <th>movie_title</th>\n",
       "      <th>movie_script_url</th>\n",
       "    </tr>\n",
       "  </thead>\n",
       "  <tbody>\n",
       "    <tr>\n",
       "      <th>0</th>\n",
       "      <td>m0</td>\n",
       "      <td>10 things i hate about you</td>\n",
       "      <td>http://www.dailyscript.com/scripts/10Things.html</td>\n",
       "    </tr>\n",
       "    <tr>\n",
       "      <th>1</th>\n",
       "      <td>m1</td>\n",
       "      <td>1492: conquest of paradise</td>\n",
       "      <td>http://www.hundland.org/scripts/1492-ConquestO...</td>\n",
       "    </tr>\n",
       "  </tbody>\n",
       "</table>\n",
       "</div>"
      ],
      "text/plain": [
       "  movie_id                 movie_title  \\\n",
       "0       m0  10 things i hate about you   \n",
       "1       m1  1492: conquest of paradise   \n",
       "\n",
       "                                    movie_script_url  \n",
       "0   http://www.dailyscript.com/scripts/10Things.html  \n",
       "1  http://www.hundland.org/scripts/1492-ConquestO...  "
      ]
     },
     "execution_count": 16,
     "metadata": {},
     "output_type": "execute_result"
    }
   ],
   "source": [
    "#  Fixed the lines with errors manually \n",
    "movie_script_urls_df_columns = {\n",
    "    0:'movie_id',  # first character involved in the conversation\n",
    "    1:'movie_title',     \n",
    "    2:'movie_script_url'\n",
    "}\n",
    "\n",
    "movie_script_urls_df = pd.read_csv('../movie-dialog-corpus/raw_script_urls.tsv', sep='\\t', header=None)\n",
    "movie_script_urls_df.rename(columns= movie_script_urls_df_columns, inplace=True)\n",
    "movie_script_urls_df.head(2)"
   ]
  },
  {
   "cell_type": "markdown",
   "id": "f1fa942f-ed31-4ea3-9e5a-4c9b4269eb26",
   "metadata": {},
   "source": [
    "## Creation of tables along with constraints on Primary key and foreign keys for SQLite Database"
   ]
  },
  {
   "cell_type": "code",
   "execution_count": 17,
   "id": "1ca92826-7a81-404a-bec8-9668249fdc24",
   "metadata": {},
   "outputs": [
    {
     "name": "stdout",
     "output_type": "stream",
     "text": [
      "2023-04-16 02:31:22,644 INFO sqlalchemy.engine.Engine \n",
      "CREATE TABLE IF NOT EXISTS movie_titles (\n",
      "    movie_id TEXT PRIMARY KEY, \n",
      "    movie_title TEXT, \n",
      "    year_of_release TEXT, \n",
      "    IMDB_rating FLOAT, \n",
      "    IMDB_number_of_votes BIGINT, \n",
      "    movie_genre TEXT\n",
      ")\n",
      "\n",
      "2023-04-16 02:31:22,644 INFO sqlalchemy.engine.Engine [raw sql] ()\n",
      "2023-04-16 02:31:22,650 INFO sqlalchemy.engine.Engine COMMIT\n",
      "2023-04-16 02:31:22,655 INFO sqlalchemy.engine.Engine PRAGMA main.table_info(\"movie_titles\")\n",
      "2023-04-16 02:31:22,656 INFO sqlalchemy.engine.Engine [raw sql] ()\n",
      "2023-04-16 02:31:22,658 INFO sqlalchemy.engine.Engine BEGIN (implicit)\n",
      "2023-04-16 02:31:22,663 INFO sqlalchemy.engine.Engine INSERT INTO movie_titles (movie_id, movie_title, year_of_release, \"IMDB_rating\", \"IMDB_number_of_votes\", movie_genre) VALUES (?, ?, ?, ?, ?, ?)\n",
      "2023-04-16 02:31:22,664 INFO sqlalchemy.engine.Engine [generated in 0.00282s] (('m0', '10 things i hate about you', '1999', 6.9, 62847, \"['comedy' 'romance']\"), ('m1', '1492: conquest of paradise', '1992', 6.2, 10421, \"['adventure' 'biography' 'drama' 'history']\"), ('m2', '15 minutes', '2001', 6.1, 25854, \"['action' 'crime' 'drama' 'thriller']\"), ('m3', '2001: a space odyssey', '1968', 8.4, 163227, \"['adventure' 'mystery' 'sci-fi']\"), ('m4', '48 hrs.', '1982', 6.9, 22289, \"['action' 'comedy' 'crime' 'drama' 'thriller']\"), ('m5', 'the fifth element', '1997', 7.5, 133756, \"['action' 'adventure' 'romance' 'sci-fi' 'thriller']\"), ('m6', '8mm', '1999', 6.3, 48212, \"['crime' 'mystery' 'thriller']\"), ('m7', 'a nightmare on elm street 4: the dream master', '1988', 5.2, 13590, \"['fantasy' 'horror' 'thriller']\")  ... displaying 10 of 617 total bound parameter sets ...  ('m615', 'young frankenstein', '1974', 8.0, 57618, \"['comedy' 'sci-fi']\"), ('m616', 'zulu dawn', '1979', 6.4, 1911, \"['action' 'adventure' 'drama' 'history' 'war']\"))\n",
      "2023-04-16 02:31:22,669 INFO sqlalchemy.engine.Engine COMMIT\n"
     ]
    }
   ],
   "source": [
    "movie_titles_query = \"\"\"\n",
    "CREATE TABLE IF NOT EXISTS movie_titles (\n",
    "    movie_id TEXT PRIMARY KEY, \n",
    "    movie_title TEXT, \n",
    "    year_of_release TEXT, \n",
    "    IMDB_rating FLOAT, \n",
    "    IMDB_number_of_votes BIGINT, \n",
    "    movie_genre TEXT\n",
    ")\n",
    "\"\"\"\n",
    "sqlite_engine.execute(movie_titles_query)\n",
    "\n",
    "try:\n",
    "    movie_titles_df.to_sql(name='movie_titles', con=sqlite_engine, if_exists='append', index=False)  # replace can be used in if_exists but it will overwrite the schema and primary key info will be lost\n",
    "except:\n",
    "    # traceback.print_exc()\n",
    "    print(\"Integrity error\")"
   ]
  },
  {
   "cell_type": "code",
   "execution_count": 18,
   "id": "080347ca-ea25-4cb9-b0b4-6fadef245545",
   "metadata": {},
   "outputs": [
    {
     "name": "stdout",
     "output_type": "stream",
     "text": [
      "2023-04-16 02:31:24,928 INFO sqlalchemy.engine.Engine CREATE TABLE  IF NOT EXISTS movie_characters (\n",
      "    character_id TEXT PRIMARY KEY, \n",
      "    character_name TEXT, \n",
      "    movie_id TEXT, \n",
      "    movie_title TEXT, \n",
      "    gender TEXT, \n",
      "    position_in_credits TEXT,\n",
      "    FOREIGN KEY (movie_id) REFERENCES movie_titles(movie_id)\n",
      ")\n",
      "2023-04-16 02:31:24,928 INFO sqlalchemy.engine.Engine [raw sql] ()\n",
      "2023-04-16 02:31:24,933 INFO sqlalchemy.engine.Engine COMMIT\n",
      "2023-04-16 02:31:24,942 INFO sqlalchemy.engine.Engine PRAGMA main.table_info(\"movie_characters\")\n",
      "2023-04-16 02:31:24,942 INFO sqlalchemy.engine.Engine [raw sql] ()\n",
      "2023-04-16 02:31:24,947 INFO sqlalchemy.engine.Engine BEGIN (implicit)\n",
      "2023-04-16 02:31:24,984 INFO sqlalchemy.engine.Engine INSERT INTO movie_characters (character_id, character_name, movie_id, movie_title, gender, position_in_credits) VALUES (?, ?, ?, ?, ?, ?)\n",
      "2023-04-16 02:31:24,984 INFO sqlalchemy.engine.Engine [generated in 0.02782s] (('u0', 'BIANCA', 'm0', '10 things i hate about you', 'f', '4'), ('u1', 'BRUCE', 'm0', '10 things i hate about you', '?', '?'), ('u2', 'CAMERON', 'm0', '10 things i hate about you', 'm', '3'), ('u3', 'CHASTITY', 'm0', '10 things i hate about you', '?', '?'), ('u4', 'JOEY', 'm0', '10 things i hate about you', 'm', '6'), ('u5', 'KAT', 'm0', '10 things i hate about you', 'f', '2'), ('u6', 'MANDELLA', 'm0', '10 things i hate about you', 'f', '7'), ('u7', 'MICHAEL', 'm0', '10 things i hate about you', 'm', '5')  ... displaying 10 of 9035 total bound parameter sets ...  ('u9033', 'STUART SMITH', 'm616', 'zulu dawn', '?', '?'), ('u9034', 'VEREKER', 'm616', 'zulu dawn', '?', '?'))\n",
      "2023-04-16 02:31:25,013 INFO sqlalchemy.engine.Engine COMMIT\n"
     ]
    }
   ],
   "source": [
    "movie_characters_query = \"\"\"CREATE TABLE  IF NOT EXISTS movie_characters (\n",
    "    character_id TEXT PRIMARY KEY, \n",
    "    character_name TEXT, \n",
    "    movie_id TEXT, \n",
    "    movie_title TEXT, \n",
    "    gender TEXT, \n",
    "    position_in_credits TEXT,\n",
    "    FOREIGN KEY (movie_id) REFERENCES movie_titles(movie_id)\n",
    ")\"\"\"\n",
    "sqlite_engine.execute(movie_characters_query)\n",
    "try:\n",
    "    movie_characters_df['position_in_credits'] = movie_characters_df['position_in_credits'].fillna('?')\n",
    "    movie_characters_df.to_sql(name='movie_characters', con=sqlite_engine, if_exists='append', index=False) # replace can be used in if_exists but it will overwrite the schema and primary key info will be lost\n",
    "except: \n",
    "    # traceback.print_exc()\n",
    "    print(\"Integrity error\")"
   ]
  },
  {
   "cell_type": "code",
   "execution_count": 19,
   "id": "8e7979c9-7213-4c5d-8bbe-442beb1270e4",
   "metadata": {},
   "outputs": [
    {
     "name": "stdout",
     "output_type": "stream",
     "text": [
      "2023-04-16 02:31:25,760 INFO sqlalchemy.engine.Engine CREATE TABLE IF NOT EXISTS movie_lines (\n",
      "    movie_line_id TEXT PRIMARY KEY, \n",
      "    character_id TEXT, \n",
      "    movie_id TEXT, \n",
      "    character_name TEXT, \n",
      "    movie_line_text TEXT,\n",
      "    FOREIGN KEY (movie_id) REFERENCES movie_titles(movie_id),\n",
      "    FOREIGN KEY (character_id) REFERENCES movie_characters(character_id)\n",
      ")\n",
      "\n",
      "2023-04-16 02:31:25,761 INFO sqlalchemy.engine.Engine [raw sql] ()\n",
      "2023-04-16 02:31:25,765 INFO sqlalchemy.engine.Engine COMMIT\n",
      "2023-04-16 02:31:25,827 INFO sqlalchemy.engine.Engine PRAGMA main.table_info(\"movie_lines\")\n",
      "2023-04-16 02:31:25,828 INFO sqlalchemy.engine.Engine [raw sql] ()\n",
      "2023-04-16 02:31:25,956 INFO sqlalchemy.engine.Engine BEGIN (implicit)\n",
      "2023-04-16 02:31:27,223 INFO sqlalchemy.engine.Engine INSERT INTO movie_lines (movie_line_id, character_id, movie_id, character_name, movie_line_text) VALUES (?, ?, ?, ?, ?)\n",
      "2023-04-16 02:31:27,224 INFO sqlalchemy.engine.Engine [generated in 1.09334s] (('L1045', 'u0', 'm0', 'BIANCA', 'They do not!'), ('L1044', 'u2', 'm0', 'CAMERON', 'They do to!'), ('L985', 'u0', 'm0', 'BIANCA', 'I hope so.'), ('L984', 'u2', 'm0', 'CAMERON', 'She okay?'), ('L925', 'u0', 'm0', 'BIANCA', \"Let's go.\"), ('L924', 'u2', 'm0', 'CAMERON', 'Wow'), ('L872', 'u0', 'm0', 'BIANCA', \"Okay -- you're gonna need to learn how to lie.\"), ('L871', 'u2', 'm0', 'CAMERON', 'No')  ... displaying 10 of 304713 total bound parameter sets ...  ('L666257', 'u9030', 'm616', 'DURNFORD', 'Good ones yes Mr Vereker. Gentlemen who can ride and shoot'), ('L666256', 'u9034', 'm616', 'VEREKER', \"Colonel Durnford... William Vereker. I hear you 've been seeking Officers?\"))\n",
      "2023-04-16 02:31:28,096 INFO sqlalchemy.engine.Engine COMMIT\n"
     ]
    }
   ],
   "source": [
    "movie_lines_query = \"\"\"CREATE TABLE IF NOT EXISTS movie_lines (\n",
    "    movie_line_id TEXT PRIMARY KEY, \n",
    "    character_id TEXT, \n",
    "    movie_id TEXT, \n",
    "    character_name TEXT, \n",
    "    movie_line_text TEXT,\n",
    "    FOREIGN KEY (movie_id) REFERENCES movie_titles(movie_id),\n",
    "    FOREIGN KEY (character_id) REFERENCES movie_characters(character_id)\n",
    ")\n",
    "\"\"\"\n",
    "sqlite_engine.execute(movie_lines_query)\n",
    "try:\n",
    "    movie_lines_df.to_sql(name='movie_lines', con=sqlite_engine, if_exists='append', index=False)\n",
    "except: \n",
    "    # traceback.print_exc()\n",
    "    print(\"Integrity error\")"
   ]
  },
  {
   "cell_type": "code",
   "execution_count": 20,
   "id": "536af7cd-8fc6-41f1-bd2b-8c18962f1511",
   "metadata": {},
   "outputs": [
    {
     "name": "stdout",
     "output_type": "stream",
     "text": [
      "2023-04-16 02:31:28,173 INFO sqlalchemy.engine.Engine \n",
      "CREATE TABLE IF NOT EXISTS movie_conversations (\n",
      "    character_id_of_first_character TEXT, \n",
      "    character_id_of_second_character TEXT, \n",
      "    movie_id TEXT, \n",
      "    movie_line_id TEXT,\n",
      "    FOREIGN KEY (movie_id) REFERENCES movie_titles(movie_id),\n",
      "    FOREIGN KEY (character_id_of_first_character) REFERENCES movie_characters(character_id),\n",
      "    FOREIGN KEY (character_id_of_second_character) REFERENCES movie_characters(character_id),\n",
      "    FOREIGN KEY (movie_line_id) REFERENCES movie_lines(movie_line_id)    \n",
      ")\n",
      "\n",
      "2023-04-16 02:31:28,174 INFO sqlalchemy.engine.Engine [raw sql] ()\n",
      "2023-04-16 02:31:28,179 INFO sqlalchemy.engine.Engine COMMIT\n",
      "2023-04-16 02:31:28,197 INFO sqlalchemy.engine.Engine PRAGMA main.table_info(\"movie_conversations\")\n",
      "2023-04-16 02:31:28,199 INFO sqlalchemy.engine.Engine [raw sql] ()\n",
      "2023-04-16 02:31:28,239 INFO sqlalchemy.engine.Engine BEGIN (implicit)\n",
      "2023-04-16 02:31:29,198 INFO sqlalchemy.engine.Engine INSERT INTO movie_conversations (character_id_of_first_character, character_id_of_second_character, movie_id, movie_line_id) VALUES (?, ?, ?, ?)\n",
      "2023-04-16 02:31:29,198 INFO sqlalchemy.engine.Engine [generated in 0.80122s] (('u0', 'u2', 'm0', 'L194'), ('u0', 'u2', 'm0', 'L195'), ('u0', 'u2', 'm0', 'L196'), ('u0', 'u2', 'm0', 'L197'), ('u0', 'u2', 'm0', 'L198'), ('u0', 'u2', 'm0', 'L199'), ('u0', 'u2', 'm0', 'L200'), ('u0', 'u2', 'm0', 'L201')  ... displaying 10 of 304713 total bound parameter sets ...  ('u9030', 'u9034', 'm616', 'L666521'), ('u9030', 'u9034', 'm616', 'L666522'))\n",
      "2023-04-16 02:31:29,602 INFO sqlalchemy.engine.Engine COMMIT\n"
     ]
    }
   ],
   "source": [
    "movie_conversations_query = \"\"\"\n",
    "CREATE TABLE IF NOT EXISTS movie_conversations (\n",
    "    character_id_of_first_character TEXT, \n",
    "    character_id_of_second_character TEXT, \n",
    "    movie_id TEXT, \n",
    "    movie_line_id TEXT,\n",
    "    FOREIGN KEY (movie_id) REFERENCES movie_titles(movie_id),\n",
    "    FOREIGN KEY (character_id_of_first_character) REFERENCES movie_characters(character_id),\n",
    "    FOREIGN KEY (character_id_of_second_character) REFERENCES movie_characters(character_id),\n",
    "    FOREIGN KEY (movie_line_id) REFERENCES movie_lines(movie_line_id)    \n",
    ")\n",
    "\"\"\"\n",
    "sqlite_engine.execute(movie_conversations_query)\n",
    "try:\n",
    "    movie_conversations_df.to_sql(name='movie_conversations', con=sqlite_engine, if_exists='append', index=False)\n",
    "except: \n",
    "    traceback.print_exc()\n",
    "    print(\"Integrity error\")"
   ]
  },
  {
   "cell_type": "code",
   "execution_count": 21,
   "id": "d865be2c-934f-44d7-8e57-bb4a1df6c96a",
   "metadata": {},
   "outputs": [
    {
     "name": "stdout",
     "output_type": "stream",
     "text": [
      "2023-04-16 02:31:29,636 INFO sqlalchemy.engine.Engine \n",
      "CREATE TABLE IF NOT EXISTS movie_script_urls (\n",
      "    movie_id TEXT PRIMARY KEY, \n",
      "    movie_title TEXT, \n",
      "    movie_script_url TEXT,\n",
      "    FOREIGN KEY (movie_id) REFERENCES movie_titles(movie_id)\n",
      ")\n",
      "\n",
      "2023-04-16 02:31:29,637 INFO sqlalchemy.engine.Engine [raw sql] ()\n",
      "2023-04-16 02:31:29,641 INFO sqlalchemy.engine.Engine COMMIT\n",
      "2023-04-16 02:31:29,645 INFO sqlalchemy.engine.Engine PRAGMA main.table_info(\"movie_script_urls\")\n",
      "2023-04-16 02:31:29,645 INFO sqlalchemy.engine.Engine [raw sql] ()\n",
      "2023-04-16 02:31:29,648 INFO sqlalchemy.engine.Engine BEGIN (implicit)\n",
      "2023-04-16 02:31:29,651 INFO sqlalchemy.engine.Engine INSERT INTO movie_script_urls (movie_id, movie_title, movie_script_url) VALUES (?, ?, ?)\n",
      "2023-04-16 02:31:29,652 INFO sqlalchemy.engine.Engine [generated in 0.00181s] (('m0', '10 things i hate about you', 'http://www.dailyscript.com/scripts/10Things.html'), ('m1', '1492: conquest of paradise', 'http://www.hundland.org/scripts/1492-ConquestOfParadise.txt'), ('m2', '15 minutes', 'http://www.dailyscript.com/scripts/15minutes.html'), ('m3', '2001: a space odyssey', 'http://www.scifiscripts.com/scripts/2001.txt'), ('m4', '48 hrs.', 'http://www.awesomefilm.com/script/48hours.txt'), ('m5', 'the fifth element', 'http://www.scifiscripts.com/scripts/5thelement.txt'), ('m6', '8mm', 'http://www.dailyscript.com/scripts/eight-millimeter.html'), ('m7', 'a nightmare on elm street 4: the dream master', 'http://www.hundland.org/scripts/A-Nightmare-on-Elm-Street-4.txt')  ... displaying 10 of 617 total bound parameter sets ...  ('m615', 'young frankenstein', 'http://www.horrorlair.com/scripts/young.txt'), ('m616', 'zulu dawn', 'http://www.aellea.com/script/zuludawn.txt'))\n",
      "2023-04-16 02:31:29,655 INFO sqlalchemy.engine.Engine COMMIT\n"
     ]
    }
   ],
   "source": [
    "movie_script_urls_query = \"\"\"\n",
    "CREATE TABLE IF NOT EXISTS movie_script_urls (\n",
    "    movie_id TEXT PRIMARY KEY, \n",
    "    movie_title TEXT, \n",
    "    movie_script_url TEXT,\n",
    "    FOREIGN KEY (movie_id) REFERENCES movie_titles(movie_id)\n",
    ")\n",
    "\"\"\"\n",
    "sqlite_engine.execute(movie_script_urls_query)\n",
    "try:\n",
    "    movie_script_urls_df.to_sql(name='movie_script_urls', con=sqlite_engine, if_exists='append', index=False)\n",
    "except: \n",
    "    # traceback.print_exc()\n",
    "    print(\"Integrity error\")"
   ]
  },
  {
   "cell_type": "code",
   "execution_count": null,
   "id": "43ebb146-dca1-48a6-9fed-8e7fdc345e59",
   "metadata": {},
   "outputs": [],
   "source": []
  },
  {
   "attachments": {
    "5166bf6e-5554-4853-a2c4-10396e56d3bf.png": {
     "image/png": "[encoded data removed]"
    }
   },
   "cell_type": "markdown",
   "id": "8e458767-0d75-4ce8-9da0-a87493418ffa",
   "metadata": {},
   "source": [
    "### Finally, below is the ER Diagram of the created database is below\n",
    "\n",
    "![image.png](attachment:5166bf6e-5554-4853-a2c4-10396e56d3bf.png)"
   ]
  },
  {
   "cell_type": "code",
   "execution_count": null,
   "id": "0f99c1ec-f5af-47cd-93ca-85089307b1ba",
   "metadata": {},
   "outputs": [],
   "source": []
  }
 ],
 "metadata": {
  "kernelspec": {
   "display_name": "Python 3 (ipykernel)",
   "language": "python",
   "name": "python3"
  },
  "language_info": {
   "codemirror_mode": {
    "name": "ipython",
    "version": 3
   },
   "file_extension": ".py",
   "mimetype": "text/x-python",
   "name": "python",
   "nbconvert_exporter": "python",
   "pygments_lexer": "ipython3",
   "version": "3.9.16"
  }
 },
 "nbformat": 4,
 "nbformat_minor": 5
}
